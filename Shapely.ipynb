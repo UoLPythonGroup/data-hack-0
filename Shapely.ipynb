{
 "metadata": {
  "name": "",
  "signature": "sha256:7ef81276da3fe8a1c8d9821ba3988d69ecbf25f4cc5f5fcbb402e0f1772e4ed6"
 },
 "nbformat": 3,
 "nbformat_minor": 0,
 "worksheets": [
  {
   "cells": [
    {
     "cell_type": "markdown",
     "metadata": {},
     "source": [
      "### Shapely\n",
      "\n",
      "http://toblerity.org/shapely/manual.html\n",
      "    \n",
      "A library for analysing 2D spatial data.\n",
      "\n",
      "- Closely follows the format of Shapefiles, but can be used completely independently\n",
      "- Sort of a wrapper of the GEOS C library\n"
     ]
    },
    {
     "cell_type": "code",
     "collapsed": false,
     "input": [
      "%matplotlib inline\n",
      "\n",
      "import numpy as np\n",
      "import matplotlib.pyplot as plt\n",
      "\n",
      "import shapely\n",
      "from shapely.geometry import Point"
     ],
     "language": "python",
     "metadata": {},
     "outputs": []
    },
    {
     "cell_type": "code",
     "collapsed": false,
     "input": [
      "points = [Point(*xy) for xy in np.random.normal(0,10,(200,2))]"
     ],
     "language": "python",
     "metadata": {},
     "outputs": []
    },
    {
     "cell_type": "code",
     "collapsed": false,
     "input": [
      "plt.figure(figsize=(8,8))\n",
      "plt.scatter([p.x for p in points], [p.y for p in points], alpha=0.75, linewidths=0)"
     ],
     "language": "python",
     "metadata": {},
     "outputs": []
    },
    {
     "cell_type": "code",
     "collapsed": false,
     "input": [
      "grow_points = [p.buffer(2) for p in points]\n",
      "ax = plt.figure(figsize=(8,8)).add_subplot(111)\n",
      "ax.set_xlim((-40, 40))\n",
      "ax.set_ylim((-40, 40))\n",
      "for p in grow_points:\n",
      "    plt.plot(*p.boundary.xy, color='green')\n",
      "plt.scatter([p.x for p in points], [p.y for p in points], alpha=0.75, linewidths=0)"
     ],
     "language": "python",
     "metadata": {},
     "outputs": []
    },
    {
     "cell_type": "code",
     "collapsed": false,
     "input": [
      "import shapely.ops\n",
      "merged_points = shapely.ops.cascaded_union(grow_points)\n",
      "\n",
      "ax = plt.figure(figsize=(8,8)).add_subplot(111)\n",
      "ax.set_xlim((-40, 40))\n",
      "ax.set_ylim((-40, 40))\n",
      "for poly in merged_points:\n",
      "    plt.plot(*poly.exterior.xy, color='green')\n",
      "    for line in poly.interiors:\n",
      "        plt.plot(*line.xy, color='green')\n",
      "\n",
      "poly.area"
     ],
     "language": "python",
     "metadata": {},
     "outputs": []
    },
    {
     "cell_type": "code",
     "collapsed": false,
     "input": [
      "print merged_points.boundary.length\n",
      "print merged_points[0].boundary.length\n",
      "merged_points"
     ],
     "language": "python",
     "metadata": {},
     "outputs": []
    },
    {
     "cell_type": "code",
     "collapsed": false,
     "input": [
      "from shapely.geometry import LineString\n",
      "\n",
      "line = LineString([(-8, 0), (0, 4), (5,2), (2, -4),(-3, -2)])"
     ],
     "language": "python",
     "metadata": {},
     "outputs": []
    },
    {
     "cell_type": "code",
     "collapsed": false,
     "input": [
      "plt.plot(*line.xy)"
     ],
     "language": "python",
     "metadata": {},
     "outputs": []
    },
    {
     "cell_type": "code",
     "collapsed": false,
     "input": [
      "plt.plot(*line.buffer(1, cap_style=3).boundary.xy)\n",
      "plt.plot(*line.buffer(1, cap_style=3).buffer(-.3).boundary.xy)"
     ],
     "language": "python",
     "metadata": {},
     "outputs": []
    },
    {
     "cell_type": "code",
     "collapsed": false,
     "input": [
      "a = points[0]"
     ],
     "language": "python",
     "metadata": {},
     "outputs": []
    },
    {
     "cell_type": "code",
     "collapsed": false,
     "input": [
      "a.area"
     ],
     "language": "python",
     "metadata": {},
     "outputs": []
    },
    {
     "cell_type": "code",
     "collapsed": false,
     "input": [
      "plt.plot(*line.xy)\n",
      "plt.plot(*line.parallel_offset(distance=1, side='left').xy)"
     ],
     "language": "python",
     "metadata": {},
     "outputs": []
    },
    {
     "cell_type": "code",
     "collapsed": false,
     "input": [
      "plt.plot(*line.xy)\n",
      "for l in line.parallel_offset(distance=2.8, side='right'):\n",
      "    plt.plot(*l.xy, color='green')"
     ],
     "language": "python",
     "metadata": {},
     "outputs": []
    },
    {
     "cell_type": "markdown",
     "metadata": {},
     "source": [
      "## Collections of points\n",
      "\n",
      "- `envelope`\n",
      "- `convex_hull`"
     ]
    },
    {
     "cell_type": "code",
     "collapsed": false,
     "input": [
      "from shapely.geometry import MultiPoint\n",
      "\n",
      "mpoints = MultiPoint(points[:10])"
     ],
     "language": "python",
     "metadata": {},
     "outputs": []
    },
    {
     "cell_type": "code",
     "collapsed": false,
     "input": [
      "plt.scatter(np.asarray(mpoints)[:,0], np.asarray(mpoints)[:,1])\n",
      "mpoints.area"
     ],
     "language": "python",
     "metadata": {},
     "outputs": []
    },
    {
     "cell_type": "code",
     "collapsed": false,
     "input": [
      "env = mpoints.envelope\n",
      "env.area"
     ],
     "language": "python",
     "metadata": {},
     "outputs": []
    },
    {
     "cell_type": "code",
     "collapsed": false,
     "input": [
      "plt.scatter(np.asarray(mpoints)[:,0], np.asarray(mpoints)[:,1])\n",
      "plt.plot(*env.boundary.xy)"
     ],
     "language": "python",
     "metadata": {},
     "outputs": []
    },
    {
     "cell_type": "code",
     "collapsed": false,
     "input": [
      "plt.scatter(np.asarray(mpoints)[:,0], np.asarray(mpoints)[:,1])\n",
      "plt.plot(*mpoints.convex_hull.boundary.xy, color='green')"
     ],
     "language": "python",
     "metadata": {},
     "outputs": []
    },
    {
     "cell_type": "code",
     "collapsed": false,
     "input": [
      "# check if a point is inside an area\n",
      "mpoints.convex_hull.contains(Point(1,2))"
     ],
     "language": "python",
     "metadata": {},
     "outputs": []
    },
    {
     "cell_type": "code",
     "collapsed": false,
     "input": [
      "mpoints.convex_hull.contains(Point(20,0))"
     ],
     "language": "python",
     "metadata": {},
     "outputs": []
    },
    {
     "cell_type": "code",
     "collapsed": false,
     "input": [
      "mpoints.centroid.xy"
     ],
     "language": "python",
     "metadata": {},
     "outputs": []
    },
    {
     "cell_type": "code",
     "collapsed": false,
     "input": [
      "mpoints.convex_hull.centroid.xy"
     ],
     "language": "python",
     "metadata": {},
     "outputs": []
    },
    {
     "cell_type": "code",
     "collapsed": false,
     "input": [],
     "language": "python",
     "metadata": {},
     "outputs": []
    }
   ],
   "metadata": {}
  }
 ]
}