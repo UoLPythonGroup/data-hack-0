{
 "metadata": {
  "name": "",
  "signature": "sha256:305b4abf8de9600e14d5b5a4cd2d5a09d90d4da10c975b7aca1b742651825898"
 },
 "nbformat": 3,
 "nbformat_minor": 0,
 "worksheets": [
  {
   "cells": [
    {
     "cell_type": "heading",
     "level": 1,
     "metadata": {},
     "source": [
      "Explore GeoHack data"
     ]
    },
    {
     "cell_type": "code",
     "collapsed": false,
     "input": [
      "!ls data"
     ],
     "language": "python",
     "metadata": {},
     "outputs": [
      {
       "output_type": "stream",
       "stream": "stdout",
       "text": [
        "leedsAll.dbf  leedsAll.shp\tleedsRoads.geojson  mwayRF.csv\r\n",
        "leedsAll.prj  leedsAll.shx\tleedsTags.csv\t    README.txt\r\n",
        "leedsAll.qpj  leedsOSMTags.csv\tmwayBR.csv\r\n"
       ]
      }
     ],
     "prompt_number": 1
    },
    {
     "cell_type": "code",
     "collapsed": false,
     "input": [
      "import pandas, numpy"
     ],
     "language": "python",
     "metadata": {},
     "outputs": [
      {
       "output_type": "stream",
       "stream": "stderr",
       "text": [
        "/usr/lib/python3/dist-packages/pandas/io/excel.py:626: UserWarning: Installed openpyxl is not supported at this time. Use >=1.6.1 and <2.0.0.\n",
        "  .format(openpyxl_compat.start_ver, openpyxl_compat.stop_ver))\n"
       ]
      }
     ],
     "prompt_number": 2
    },
    {
     "cell_type": "heading",
     "level": 2,
     "metadata": {},
     "source": [
      "leedsAll shapefile"
     ]
    },
    {
     "cell_type": "markdown",
     "metadata": {},
     "source": [
      "The leedsAll.xxx files together form a shapefile specification.\n",
      "See https://github.com/GeospatialPython/pyshp/blob/master/README.md for some explanation of the module used to read this specification."
     ]
    },
    {
     "cell_type": "code",
     "collapsed": false,
     "input": [
      "import shapefile"
     ],
     "language": "python",
     "metadata": {},
     "outputs": [],
     "prompt_number": 3
    },
    {
     "cell_type": "code",
     "collapsed": false,
     "input": [
      "sf = shapefile.Reader('data/leedsAll')\n",
      "shapes = sf.shapes()"
     ],
     "language": "python",
     "metadata": {},
     "outputs": [],
     "prompt_number": 4
    },
    {
     "cell_type": "code",
     "collapsed": false,
     "input": [
      "len(shapes)  # number of shapes"
     ],
     "language": "python",
     "metadata": {},
     "outputs": [
      {
       "metadata": {},
       "output_type": "pyout",
       "prompt_number": 5,
       "text": [
        "31026"
       ]
      }
     ],
     "prompt_number": 5
    },
    {
     "cell_type": "code",
     "collapsed": false,
     "input": [
      "shapes[0].bbox  # bounding box"
     ],
     "language": "python",
     "metadata": {},
     "outputs": [
      {
       "metadata": {},
       "output_type": "pyout",
       "prompt_number": 6,
       "text": [
        "[-1.627225, 53.798138, -1.626639, 53.798321]"
       ]
      }
     ],
     "prompt_number": 6
    },
    {
     "cell_type": "code",
     "collapsed": false,
     "input": [
      "shapes[0].parts  # ??? [0] means no parts"
     ],
     "language": "python",
     "metadata": {},
     "outputs": [
      {
       "metadata": {},
       "output_type": "pyout",
       "prompt_number": 7,
       "text": [
        "[0]"
       ]
      }
     ],
     "prompt_number": 7
    },
    {
     "cell_type": "code",
     "collapsed": false,
     "input": [
      "shapes[0].points"
     ],
     "language": "python",
     "metadata": {},
     "outputs": [
      {
       "metadata": {},
       "output_type": "pyout",
       "prompt_number": 8,
       "text": [
        "[[-1.627225, 53.798321], [-1.62682, 53.798183], [-1.626639, 53.798138]]"
       ]
      }
     ],
     "prompt_number": 8
    },
    {
     "cell_type": "code",
     "collapsed": false,
     "input": [
      "shapes[0].shapeType  # according to some specification "
     ],
     "language": "python",
     "metadata": {},
     "outputs": [
      {
       "metadata": {},
       "output_type": "pyout",
       "prompt_number": 9,
       "text": [
        "3"
       ]
      }
     ],
     "prompt_number": 9
    },
    {
     "cell_type": "code",
     "collapsed": false,
     "input": [
      "sf.fields  # every shape has a record with the following fields"
     ],
     "language": "python",
     "metadata": {},
     "outputs": [
      {
       "metadata": {},
       "output_type": "pyout",
       "prompt_number": 10,
       "text": [
        "[('DeletionFlag', 'C', 1, 0),\n",
        " ['id', 'N', 24, 15],\n",
        " ['wayNmId', 'N', 24, 15],\n",
        " ['lngthMt', 'N', 24, 15],\n",
        " ['rtngFcI', 'N', 24, 15],\n",
        " ['flow', 'C', 80, 0],\n",
        " ['island', 'N', 24, 15],\n",
        " ['points', 'C', 80, 0],\n",
        " ['elevtns', 'C', 80, 0],\n",
        " ['distncs', 'C', 80, 0]]"
       ]
      }
     ],
     "prompt_number": 10
    },
    {
     "cell_type": "code",
     "collapsed": false,
     "input": [
      "records = sf.records()\n",
      "len(records), len(shapes) # number of records equals number of shapes"
     ],
     "language": "python",
     "metadata": {},
     "outputs": [
      {
       "metadata": {},
       "output_type": "pyout",
       "prompt_number": 11,
       "text": [
        "(31026, 31026)"
       ]
      }
     ],
     "prompt_number": 11
    },
    {
     "cell_type": "code",
     "collapsed": false,
     "input": [
      "records[0]"
     ],
     "language": "python",
     "metadata": {},
     "outputs": [
      {
       "metadata": {},
       "output_type": "pyout",
       "prompt_number": 12,
       "text": [
        "[1628965.0,\n",
        " 596060.0,\n",
        " 44.0,\n",
        " 272.0,\n",
        " 'with',\n",
        " 7.0,\n",
        " b'                                                                                ',\n",
        " '60,58,57',\n",
        " '31,13']"
       ]
      }
     ],
     "prompt_number": 12
    },
    {
     "cell_type": "heading",
     "level": 2,
     "metadata": {},
     "source": [
      "leedsTags.csv"
     ]
    },
    {
     "cell_type": "code",
     "collapsed": false,
     "input": [
      "lt = pandas.read_csv('data/leedsTags.csv')"
     ],
     "language": "python",
     "metadata": {},
     "outputs": [],
     "prompt_number": 13
    },
    {
     "cell_type": "code",
     "collapsed": false,
     "input": [
      "len(lt), len(shapes) # as many rows in this table as there are shapes in the leedsAll.xxx shapefile"
     ],
     "language": "python",
     "metadata": {},
     "outputs": [
      {
       "metadata": {},
       "output_type": "pyout",
       "prompt_number": 14,
       "text": [
        "(31026, 31026)"
       ]
      }
     ],
     "prompt_number": 14
    },
    {
     "cell_type": "code",
     "collapsed": false,
     "input": [
      "lt.head() "
     ],
     "language": "python",
     "metadata": {},
     "outputs": [
      {
       "html": [
        "<div style=\"max-height:1000px;max-width:1500px;overflow:auto;\">\n",
        "<table border=\"1\" class=\"dataframe\">\n",
        "  <thead>\n",
        "    <tr style=\"text-align: right;\">\n",
        "      <th></th>\n",
        "      <th>Unnamed: 0</th>\n",
        "      <th>id</th>\n",
        "      <th>highway</th>\n",
        "      <th>cycleway</th>\n",
        "      <th>access</th>\n",
        "      <th>foot</th>\n",
        "      <th>bicycle</th>\n",
        "      <th>oneway</th>\n",
        "      <th>routeId</th>\n",
        "      <th>routingFactorId</th>\n",
        "    </tr>\n",
        "  </thead>\n",
        "  <tbody>\n",
        "    <tr>\n",
        "      <th>0</th>\n",
        "      <td> 4443</td>\n",
        "      <td> 1628965</td>\n",
        "      <td>    secondary</td>\n",
        "      <td> NaN</td>\n",
        "      <td>  no</td>\n",
        "      <td>  no</td>\n",
        "      <td> yes</td>\n",
        "      <td> yes</td>\n",
        "      <td> 0</td>\n",
        "      <td> 272</td>\n",
        "    </tr>\n",
        "    <tr>\n",
        "      <th>1</th>\n",
        "      <td> 5036</td>\n",
        "      <td> 1709451</td>\n",
        "      <td> unclassified</td>\n",
        "      <td> NaN</td>\n",
        "      <td> yes</td>\n",
        "      <td> yes</td>\n",
        "      <td> yes</td>\n",
        "      <td> yes</td>\n",
        "      <td> 0</td>\n",
        "      <td> 337</td>\n",
        "    </tr>\n",
        "    <tr>\n",
        "      <th>2</th>\n",
        "      <td> 5037</td>\n",
        "      <td> 1709456</td>\n",
        "      <td>     tertiary</td>\n",
        "      <td> NaN</td>\n",
        "      <td> yes</td>\n",
        "      <td> yes</td>\n",
        "      <td> yes</td>\n",
        "      <td>  no</td>\n",
        "      <td> 0</td>\n",
        "      <td>  67</td>\n",
        "    </tr>\n",
        "    <tr>\n",
        "      <th>3</th>\n",
        "      <td> 5038</td>\n",
        "      <td> 1709460</td>\n",
        "      <td> unclassified</td>\n",
        "      <td> NaN</td>\n",
        "      <td> yes</td>\n",
        "      <td> yes</td>\n",
        "      <td> yes</td>\n",
        "      <td>  no</td>\n",
        "      <td> 0</td>\n",
        "      <td> 337</td>\n",
        "    </tr>\n",
        "    <tr>\n",
        "      <th>4</th>\n",
        "      <td> 7542</td>\n",
        "      <td> 2340822</td>\n",
        "      <td>        trunk</td>\n",
        "      <td> NaN</td>\n",
        "      <td>  no</td>\n",
        "      <td>  no</td>\n",
        "      <td> yes</td>\n",
        "      <td> yes</td>\n",
        "      <td> 0</td>\n",
        "      <td> 396</td>\n",
        "    </tr>\n",
        "  </tbody>\n",
        "</table>\n",
        "</div>"
       ],
       "metadata": {},
       "output_type": "pyout",
       "prompt_number": 15,
       "text": [
        "   Unnamed: 0       id       highway cycleway access foot bicycle oneway  \\\n",
        "0        4443  1628965     secondary      NaN     no   no     yes    yes   \n",
        "1        5036  1709451  unclassified      NaN    yes  yes     yes    yes   \n",
        "2        5037  1709456      tertiary      NaN    yes  yes     yes     no   \n",
        "3        5038  1709460  unclassified      NaN    yes  yes     yes     no   \n",
        "4        7542  2340822         trunk      NaN     no   no     yes    yes   \n",
        "\n",
        "   routeId  routingFactorId  \n",
        "0        0              272  \n",
        "1        0              337  \n",
        "2        0               67  \n",
        "3        0              337  \n",
        "4        0              396  "
       ]
      }
     ],
     "prompt_number": 15
    },
    {
     "cell_type": "code",
     "collapsed": false,
     "input": [
      "# Check that numbers in ids column are the same as the ones in the shapefile \n",
      "ids_from_csv = lt.id.values\n",
      "ids_from_sf = [int(r[0]) for r in sf.iterRecords()]\n",
      "(ids_from_csv == ids_from_sf).all()"
     ],
     "language": "python",
     "metadata": {},
     "outputs": [
      {
       "metadata": {},
       "output_type": "pyout",
       "prompt_number": 16,
       "text": [
        "True"
       ]
      }
     ],
     "prompt_number": 16
    },
    {
     "cell_type": "code",
     "collapsed": false,
     "input": [
      "# Possible values (with counts) for highway column\n",
      "lt.groupby('highway').size()"
     ],
     "language": "python",
     "metadata": {},
     "outputs": [
      {
       "metadata": {},
       "output_type": "pyout",
       "prompt_number": 17,
       "text": [
        "highway\n",
        "bridleway          245\n",
        "cycleway           489\n",
        "footway           5344\n",
        "living_street        6\n",
        "motorway_link      164\n",
        "path               276\n",
        "pedestrian         123\n",
        "primary            614\n",
        "primary_link        55\n",
        "residential      13097\n",
        "road                49\n",
        "secondary          294\n",
        "service           5270\n",
        "steps              287\n",
        "tertiary          1256\n",
        "track              885\n",
        "trunk              744\n",
        "trunk_link         139\n",
        "unclassified      1689\n",
        "dtype: int64"
       ]
      }
     ],
     "prompt_number": 17
    },
    {
     "cell_type": "code",
     "collapsed": false,
     "input": [
      "lt.groupby('cycleway').size()"
     ],
     "language": "python",
     "metadata": {},
     "outputs": [
      {
       "metadata": {},
       "output_type": "pyout",
       "prompt_number": 18,
       "text": [
        "cycleway\n",
        "lane               58\n",
        "opposite_lane       5\n",
        "opposite_track      3\n",
        "share_busway        7\n",
        "shared              5\n",
        "track             534\n",
        "dtype: int64"
       ]
      }
     ],
     "prompt_number": 18
    },
    {
     "cell_type": "code",
     "collapsed": false,
     "input": [
      "lt.groupby('access').size()"
     ],
     "language": "python",
     "metadata": {},
     "outputs": [
      {
       "metadata": {},
       "output_type": "pyout",
       "prompt_number": 19,
       "text": [
        "access\n",
        "designated         3\n",
        "destination       87\n",
        "no              7940\n",
        "permissive       200\n",
        "private           22\n",
        "yes            22533\n",
        "dtype: int64"
       ]
      }
     ],
     "prompt_number": 19
    },
    {
     "cell_type": "code",
     "collapsed": false,
     "input": [
      "lt.groupby('foot').size()"
     ],
     "language": "python",
     "metadata": {},
     "outputs": [
      {
       "metadata": {},
       "output_type": "pyout",
       "prompt_number": 20,
       "text": [
        "foot\n",
        "designated      4805\n",
        "destination       23\n",
        "no              2130\n",
        "permissive       179\n",
        "yes            23880\n",
        "dtype: int64"
       ]
      }
     ],
     "prompt_number": 20
    },
    {
     "cell_type": "code",
     "collapsed": false,
     "input": [
      "lt.groupby('bicycle').size()"
     ],
     "language": "python",
     "metadata": {},
     "outputs": [
      {
       "metadata": {},
       "output_type": "pyout",
       "prompt_number": 21,
       "text": [
        "bicycle\n",
        "designated       355\n",
        "destination       73\n",
        "dismount        5842\n",
        "permissive       140\n",
        "private           11\n",
        "yes            24590\n",
        "dtype: int64"
       ]
      }
     ],
     "prompt_number": 21
    },
    {
     "cell_type": "code",
     "collapsed": false,
     "input": [
      "lt.groupby('oneway').size()"
     ],
     "language": "python",
     "metadata": {},
     "outputs": [
      {
       "metadata": {},
       "output_type": "pyout",
       "prompt_number": 22,
       "text": [
        "oneway\n",
        "-1           26\n",
        "no        28461\n",
        "yes        2539\n",
        "dtype: int64"
       ]
      }
     ],
     "prompt_number": 22
    },
    {
     "cell_type": "code",
     "collapsed": false,
     "input": [
      "lt.groupby('routeId').size()"
     ],
     "language": "python",
     "metadata": {},
     "outputs": [
      {
       "metadata": {},
       "output_type": "pyout",
       "prompt_number": 23,
       "text": [
        "routeId\n",
        "0          30443\n",
        "17883         27\n",
        "357215        37\n",
        "1548002       73\n",
        "2054077       34\n",
        "3177071       61\n",
        "3177124       48\n",
        "3177601       64\n",
        "3179002       72\n",
        "3179113       67\n",
        "3723504       99\n",
        "3723713        1\n",
        "dtype: int64"
       ]
      }
     ],
     "prompt_number": 23
    },
    {
     "cell_type": "code",
     "collapsed": false,
     "input": [
      "lt.routingFactorId.min(), lt.routingFactorId.max()"
     ],
     "language": "python",
     "metadata": {},
     "outputs": [
      {
       "metadata": {},
       "output_type": "pyout",
       "prompt_number": 24,
       "text": [
        "(2, 657)"
       ]
      }
     ],
     "prompt_number": 24
    },
    {
     "cell_type": "heading",
     "level": 2,
     "metadata": {},
     "source": [
      "mwayBR.csv"
     ]
    },
    {
     "cell_type": "code",
     "collapsed": false,
     "input": [
      "mbr = pandas.read_csv(\"data/mwayBR.csv\", encoding=\"latin1\")"
     ],
     "language": "python",
     "metadata": {},
     "outputs": [],
     "prompt_number": 25
    },
    {
     "cell_type": "code",
     "collapsed": false,
     "input": [
      "len(mbr)"
     ],
     "language": "python",
     "metadata": {},
     "outputs": [
      {
       "metadata": {},
       "output_type": "pyout",
       "prompt_number": 26,
       "text": [
        "1585"
       ]
      }
     ],
     "prompt_number": 26
    },
    {
     "cell_type": "code",
     "collapsed": false,
     "input": [
      "mbr.head()"
     ],
     "language": "python",
     "metadata": {},
     "outputs": [
      {
       "html": [
        "<div style=\"max-height:1000px;max-width:1500px;overflow:auto;\">\n",
        "<table border=\"1\" class=\"dataframe\">\n",
        "  <thead>\n",
        "    <tr style=\"text-align: right;\">\n",
        "      <th></th>\n",
        "      <th>Unnamed: 0</th>\n",
        "      <th>id</th>\n",
        "      <th>originalTags</th>\n",
        "      <th>name</th>\n",
        "      <th>network</th>\n",
        "      <th>cnRef</th>\n",
        "      <th>sumLengthsKm</th>\n",
        "      <th>rating</th>\n",
        "    </tr>\n",
        "  </thead>\n",
        "  <tbody>\n",
        "    <tr>\n",
        "      <th>0</th>\n",
        "      <td> 1</td>\n",
        "      <td> 2649</td>\n",
        "      <td>     network=lcn\\tref=4\\troute=bicycle\\ttype=route</td>\n",
        "      <td>        Local cycle network 4</td>\n",
        "      <td> lcn</td>\n",
        "      <td>  4</td>\n",
        "      <td>  1</td>\n",
        "      <td> suggested</td>\n",
        "    </tr>\n",
        "    <tr>\n",
        "      <th>1</th>\n",
        "      <td> 2</td>\n",
        "      <td> 2650</td>\n",
        "      <td>    network=lcn\\tref=4A\\troute=bicycle\\ttype=route</td>\n",
        "      <td>       Local cycle network 4A</td>\n",
        "      <td> lcn</td>\n",
        "      <td> 4A</td>\n",
        "      <td>  3</td>\n",
        "      <td> suggested</td>\n",
        "    </tr>\n",
        "    <tr>\n",
        "      <th>2</th>\n",
        "      <td> 3</td>\n",
        "      <td> 2695</td>\n",
        "      <td>    network=lcn\\tref=29\\troute=bicycle\\ttype=route</td>\n",
        "      <td>       Local cycle network 29</td>\n",
        "      <td> lcn</td>\n",
        "      <td> 29</td>\n",
        "      <td>  7</td>\n",
        "      <td> suggested</td>\n",
        "    </tr>\n",
        "    <tr>\n",
        "      <th>3</th>\n",
        "      <td> 4</td>\n",
        "      <td> 2696</td>\n",
        "      <td> name=London Cycle Network Route 3\\tnetwork=lcn...</td>\n",
        "      <td> London Cycle Network Route 3</td>\n",
        "      <td> lcn</td>\n",
        "      <td>  3</td>\n",
        "      <td> 19</td>\n",
        "      <td> suggested</td>\n",
        "    </tr>\n",
        "    <tr>\n",
        "      <th>4</th>\n",
        "      <td> 5</td>\n",
        "      <td> 2706</td>\n",
        "      <td> name=London Cycle Network Route 2\\tnetwork=lcn...</td>\n",
        "      <td> London Cycle Network Route 2</td>\n",
        "      <td> lcn</td>\n",
        "      <td>  2</td>\n",
        "      <td> 14</td>\n",
        "      <td> suggested</td>\n",
        "    </tr>\n",
        "  </tbody>\n",
        "</table>\n",
        "</div>"
       ],
       "metadata": {},
       "output_type": "pyout",
       "prompt_number": 27,
       "text": [
        "   Unnamed: 0    id                                       originalTags  \\\n",
        "0           1  2649      network=lcn\\tref=4\\troute=bicycle\\ttype=route   \n",
        "1           2  2650     network=lcn\\tref=4A\\troute=bicycle\\ttype=route   \n",
        "2           3  2695     network=lcn\\tref=29\\troute=bicycle\\ttype=route   \n",
        "3           4  2696  name=London Cycle Network Route 3\\tnetwork=lcn...   \n",
        "4           5  2706  name=London Cycle Network Route 2\\tnetwork=lcn...   \n",
        "\n",
        "                           name network cnRef  sumLengthsKm     rating  \n",
        "0         Local cycle network 4     lcn     4             1  suggested  \n",
        "1        Local cycle network 4A     lcn    4A             3  suggested  \n",
        "2        Local cycle network 29     lcn    29             7  suggested  \n",
        "3  London Cycle Network Route 3     lcn     3            19  suggested  \n",
        "4  London Cycle Network Route 2     lcn     2            14  suggested  "
       ]
      }
     ],
     "prompt_number": 27
    },
    {
     "cell_type": "code",
     "collapsed": false,
     "input": [
      "# Get possible values of routeId in leedsTags table\n",
      "gb = lt.groupby('routeId')\n",
      "gb.groups.keys()   "
     ],
     "language": "python",
     "metadata": {},
     "outputs": [
      {
       "metadata": {},
       "output_type": "pyout",
       "prompt_number": 28,
       "text": [
        "dict_keys([0, 3177601, 1548002, 3177124, 3723713, 3179113, 3177071, 3723504, 3179002, 17883, 2054077, 357215])"
       ]
      }
     ],
     "prompt_number": 28
    },
    {
     "cell_type": "code",
     "collapsed": false,
     "input": [
      "# Get entries in mwayBR table corresponding to these id's\n",
      "mbr[mbr.id.isin(gb.groups.keys())]"
     ],
     "language": "python",
     "metadata": {},
     "outputs": [
      {
       "html": [
        "<div style=\"max-height:1000px;max-width:1500px;overflow:auto;\">\n",
        "<table border=\"1\" class=\"dataframe\">\n",
        "  <thead>\n",
        "    <tr style=\"text-align: right;\">\n",
        "      <th></th>\n",
        "      <th>Unnamed: 0</th>\n",
        "      <th>id</th>\n",
        "      <th>originalTags</th>\n",
        "      <th>name</th>\n",
        "      <th>network</th>\n",
        "      <th>cnRef</th>\n",
        "      <th>sumLengthsKm</th>\n",
        "      <th>rating</th>\n",
        "    </tr>\n",
        "  </thead>\n",
        "  <tbody>\n",
        "    <tr>\n",
        "      <th>71  </th>\n",
        "      <td>   72</td>\n",
        "      <td>   17883</td>\n",
        "      <td> name=NCN National Route 66\\tnetwork=ncn\\topera...</td>\n",
        "      <td>                           NCN National Route 66</td>\n",
        "      <td> ncn</td>\n",
        "      <td>    66</td>\n",
        "      <td>  179</td>\n",
        "      <td> continuous</td>\n",
        "    </tr>\n",
        "    <tr>\n",
        "      <th>360 </th>\n",
        "      <td>  361</td>\n",
        "      <td>  357215</td>\n",
        "      <td> name=NCN National Route 67\\tnetwork=ncn\\topera...</td>\n",
        "      <td>                           NCN National Route 67</td>\n",
        "      <td> ncn</td>\n",
        "      <td>    67</td>\n",
        "      <td>  181</td>\n",
        "      <td> continuous</td>\n",
        "    </tr>\n",
        "    <tr>\n",
        "      <th>641 </th>\n",
        "      <td>  642</td>\n",
        "      <td> 1548002</td>\n",
        "      <td> name=West Yorkshire Cycle Route\\tnetwork=rcn\\t...</td>\n",
        "      <td>                      West Yorkshire Cycle Route</td>\n",
        "      <td> rcn</td>\n",
        "      <td>   NaN</td>\n",
        "      <td>   49</td>\n",
        "      <td>    touring</td>\n",
        "    </tr>\n",
        "    <tr>\n",
        "      <th>834 </th>\n",
        "      <td>  835</td>\n",
        "      <td> 2054077</td>\n",
        "      <td> name=Roundhay Park to Temple Newsam Core Cycle...</td>\n",
        "      <td> Roundhay Park to Temple Newsam Core Cycle Route</td>\n",
        "      <td> lcn</td>\n",
        "      <td> RP-TN</td>\n",
        "      <td>   15</td>\n",
        "      <td>  suggested</td>\n",
        "    </tr>\n",
        "    <tr>\n",
        "      <th>1234</th>\n",
        "      <td> 1235</td>\n",
        "      <td> 3177071</td>\n",
        "      <td> name=Garforth to Leeds City Centre Core Cycle ...</td>\n",
        "      <td>  Garforth to Leeds City Centre Core Cycle Route</td>\n",
        "      <td> lcn</td>\n",
        "      <td>  G-CC</td>\n",
        "      <td>   12</td>\n",
        "      <td>  suggested</td>\n",
        "    </tr>\n",
        "    <tr>\n",
        "      <th>1235</th>\n",
        "      <td> 1236</td>\n",
        "      <td> 3177124</td>\n",
        "      <td> name=Armley to Leeds City Centre Core Cycle Ro...</td>\n",
        "      <td>    Armley to Leeds City Centre Core Cycle Route</td>\n",
        "      <td> lcn</td>\n",
        "      <td> Ar-CC</td>\n",
        "      <td>    7</td>\n",
        "      <td>  suggested</td>\n",
        "    </tr>\n",
        "    <tr>\n",
        "      <th>1237</th>\n",
        "      <td> 1238</td>\n",
        "      <td> 3177601</td>\n",
        "      <td> name=Middleton to Leeds City Centre Core Cycle...</td>\n",
        "      <td> Middleton to Leeds City Centre Core Cycle Route</td>\n",
        "      <td> lcn</td>\n",
        "      <td>  M-CC</td>\n",
        "      <td>    9</td>\n",
        "      <td>  suggested</td>\n",
        "    </tr>\n",
        "    <tr>\n",
        "      <th>1239</th>\n",
        "      <td> 1240</td>\n",
        "      <td> 3179002</td>\n",
        "      <td> ref=A-CC\\troute=bicycle\\ttype=route\\tname=Alwo...</td>\n",
        "      <td> Alwoodley to Leeds City Centre Core Cycle Route</td>\n",
        "      <td> lcn</td>\n",
        "      <td>  A-CC</td>\n",
        "      <td>   11</td>\n",
        "      <td>  suggested</td>\n",
        "    </tr>\n",
        "    <tr>\n",
        "      <th>1240</th>\n",
        "      <td> 1241</td>\n",
        "      <td> 3179113</td>\n",
        "      <td> name=West Park to Leeds City Centre Core Cycle...</td>\n",
        "      <td> West Park to Leeds City Centre Core Cycle Route</td>\n",
        "      <td> lcn</td>\n",
        "      <td>  W-CC</td>\n",
        "      <td>    8</td>\n",
        "      <td>  suggested</td>\n",
        "    </tr>\n",
        "    <tr>\n",
        "      <th>1359</th>\n",
        "      <td> 1360</td>\n",
        "      <td> 3723504</td>\n",
        "      <td>                                               NaN</td>\n",
        "      <td>                                            lcn?</td>\n",
        "      <td> lcn</td>\n",
        "      <td>   NaN</td>\n",
        "      <td> 2670</td>\n",
        "      <td>  suggested</td>\n",
        "    </tr>\n",
        "    <tr>\n",
        "      <th>1568</th>\n",
        "      <td> 1569</td>\n",
        "      <td> 3723713</td>\n",
        "      <td>                                               NaN</td>\n",
        "      <td>                                           ncn67</td>\n",
        "      <td> ncn</td>\n",
        "      <td>    67</td>\n",
        "      <td>   20</td>\n",
        "      <td> continuous</td>\n",
        "    </tr>\n",
        "  </tbody>\n",
        "</table>\n",
        "</div>"
       ],
       "metadata": {},
       "output_type": "pyout",
       "prompt_number": 29,
       "text": [
        "      Unnamed: 0       id                                       originalTags  \\\n",
        "71            72    17883  name=NCN National Route 66\\tnetwork=ncn\\topera...   \n",
        "360          361   357215  name=NCN National Route 67\\tnetwork=ncn\\topera...   \n",
        "641          642  1548002  name=West Yorkshire Cycle Route\\tnetwork=rcn\\t...   \n",
        "834          835  2054077  name=Roundhay Park to Temple Newsam Core Cycle...   \n",
        "1234        1235  3177071  name=Garforth to Leeds City Centre Core Cycle ...   \n",
        "1235        1236  3177124  name=Armley to Leeds City Centre Core Cycle Ro...   \n",
        "1237        1238  3177601  name=Middleton to Leeds City Centre Core Cycle...   \n",
        "1239        1240  3179002  ref=A-CC\\troute=bicycle\\ttype=route\\tname=Alwo...   \n",
        "1240        1241  3179113  name=West Park to Leeds City Centre Core Cycle...   \n",
        "1359        1360  3723504                                                NaN   \n",
        "1568        1569  3723713                                                NaN   \n",
        "\n",
        "                                                 name network  cnRef  \\\n",
        "71                              NCN National Route 66     ncn     66   \n",
        "360                             NCN National Route 67     ncn     67   \n",
        "641                        West Yorkshire Cycle Route     rcn    NaN   \n",
        "834   Roundhay Park to Temple Newsam Core Cycle Route     lcn  RP-TN   \n",
        "1234   Garforth to Leeds City Centre Core Cycle Route     lcn   G-CC   \n",
        "1235     Armley to Leeds City Centre Core Cycle Route     lcn  Ar-CC   \n",
        "1237  Middleton to Leeds City Centre Core Cycle Route     lcn   M-CC   \n",
        "1239  Alwoodley to Leeds City Centre Core Cycle Route     lcn   A-CC   \n",
        "1240  West Park to Leeds City Centre Core Cycle Route     lcn   W-CC   \n",
        "1359                                             lcn?     lcn    NaN   \n",
        "1568                                            ncn67     ncn     67   \n",
        "\n",
        "      sumLengthsKm      rating  \n",
        "71             179  continuous  \n",
        "360            181  continuous  \n",
        "641             49     touring  \n",
        "834             15   suggested  \n",
        "1234            12   suggested  \n",
        "1235             7   suggested  \n",
        "1237             9   suggested  \n",
        "1239            11   suggested  \n",
        "1240             8   suggested  \n",
        "1359          2670   suggested  \n",
        "1568            20  continuous  "
       ]
      }
     ],
     "prompt_number": 29
    },
    {
     "cell_type": "heading",
     "level": 2,
     "metadata": {},
     "source": [
      "mwayRF.csv"
     ]
    },
    {
     "cell_type": "code",
     "collapsed": false,
     "input": [
      "mrf = pandas.read_csv(\"data/mwayRF.csv\")"
     ],
     "language": "python",
     "metadata": {},
     "outputs": [],
     "prompt_number": 30
    },
    {
     "cell_type": "code",
     "collapsed": false,
     "input": [
      "len(mrf)"
     ],
     "language": "python",
     "metadata": {},
     "outputs": [
      {
       "metadata": {},
       "output_type": "pyout",
       "prompt_number": 31,
       "text": [
        "676"
       ]
      }
     ],
     "prompt_number": 31
    },
    {
     "cell_type": "code",
     "collapsed": false,
     "input": [
      "mrf.head()"
     ],
     "language": "python",
     "metadata": {},
     "outputs": [
      {
       "html": [
        "<div style=\"max-height:1000px;max-width:1500px;overflow:auto;\">\n",
        "<table border=\"1\" class=\"dataframe\">\n",
        "  <thead>\n",
        "    <tr style=\"text-align: right;\">\n",
        "      <th></th>\n",
        "      <th>Unnamed: 0</th>\n",
        "      <th>id</th>\n",
        "      <th>color</th>\n",
        "      <th>cyclable</th>\n",
        "      <th>walkable</th>\n",
        "      <th>speed</th>\n",
        "      <th>quietness</th>\n",
        "      <th>pause</th>\n",
        "      <th>rfHash</th>\n",
        "    </tr>\n",
        "  </thead>\n",
        "  <tbody>\n",
        "    <tr>\n",
        "      <th>0</th>\n",
        "      <td> 1</td>\n",
        "      <td> 1</td>\n",
        "      <td> #EAEAFF</td>\n",
        "      <td>  no</td>\n",
        "      <td>  no</td>\n",
        "      <td>  1</td>\n",
        "      <td>  1</td>\n",
        "      <td> 0</td>\n",
        "      <td>          0</td>\n",
        "    </tr>\n",
        "    <tr>\n",
        "      <th>1</th>\n",
        "      <td> 2</td>\n",
        "      <td> 2</td>\n",
        "      <td> #00DD00</td>\n",
        "      <td> yes</td>\n",
        "      <td> yes</td>\n",
        "      <td> 26</td>\n",
        "      <td> 90</td>\n",
        "      <td> 0</td>\n",
        "      <td> 3667591168</td>\n",
        "    </tr>\n",
        "    <tr>\n",
        "      <th>2</th>\n",
        "      <td> 3</td>\n",
        "      <td> 3</td>\n",
        "      <td> #FCC100</td>\n",
        "      <td> yes</td>\n",
        "      <td> yes</td>\n",
        "      <td> 12</td>\n",
        "      <td> 89</td>\n",
        "      <td> 7</td>\n",
        "      <td> 3649896441</td>\n",
        "    </tr>\n",
        "    <tr>\n",
        "      <th>3</th>\n",
        "      <td> 4</td>\n",
        "      <td> 4</td>\n",
        "      <td> #00DD00</td>\n",
        "      <td> yes</td>\n",
        "      <td> yes</td>\n",
        "      <td>  9</td>\n",
        "      <td> 94</td>\n",
        "      <td> 7</td>\n",
        "      <td> 3733585913</td>\n",
        "    </tr>\n",
        "    <tr>\n",
        "      <th>4</th>\n",
        "      <td> 5</td>\n",
        "      <td> 5</td>\n",
        "      <td> #FCC100</td>\n",
        "      <td> yes</td>\n",
        "      <td> yes</td>\n",
        "      <td> 24</td>\n",
        "      <td> 80</td>\n",
        "      <td> 1</td>\n",
        "      <td> 3499687935</td>\n",
        "    </tr>\n",
        "  </tbody>\n",
        "</table>\n",
        "</div>"
       ],
       "metadata": {},
       "output_type": "pyout",
       "prompt_number": 32,
       "text": [
        "   Unnamed: 0  id    color cyclable walkable  speed  quietness  pause  \\\n",
        "0           1   1  #EAEAFF       no       no      1          1      0   \n",
        "1           2   2  #00DD00      yes      yes     26         90      0   \n",
        "2           3   3  #FCC100      yes      yes     12         89      7   \n",
        "3           4   4  #00DD00      yes      yes      9         94      7   \n",
        "4           5   5  #FCC100      yes      yes     24         80      1   \n",
        "\n",
        "       rfHash  \n",
        "0           0  \n",
        "1  3667591168  \n",
        "2  3649896441  \n",
        "3  3733585913  \n",
        "4  3499687935  "
       ]
      }
     ],
     "prompt_number": 32
    },
    {
     "cell_type": "code",
     "collapsed": false,
     "input": [
      "# Check that id's are continuous\n",
      "(mrf.id == numpy.arange(1, len(mrf)+1)).all()"
     ],
     "language": "python",
     "metadata": {},
     "outputs": [
      {
       "metadata": {},
       "output_type": "pyout",
       "prompt_number": 33,
       "text": [
        "True"
       ]
      }
     ],
     "prompt_number": 33
    },
    {
     "cell_type": "heading",
     "level": 2,
     "metadata": {},
     "source": [
      "leedsOSMTags.csv"
     ]
    },
    {
     "cell_type": "code",
     "collapsed": false,
     "input": [
      "lot = pandas.read_csv(\"data/leedsOSMTags.csv\")"
     ],
     "language": "python",
     "metadata": {},
     "outputs": [],
     "prompt_number": 34
    },
    {
     "cell_type": "code",
     "collapsed": false,
     "input": [
      "len(lot)"
     ],
     "language": "python",
     "metadata": {},
     "outputs": [
      {
       "metadata": {},
       "output_type": "pyout",
       "prompt_number": 35,
       "text": [
        "63450"
       ]
      }
     ],
     "prompt_number": 35
    },
    {
     "cell_type": "code",
     "collapsed": false,
     "input": [
      "lot.head()"
     ],
     "language": "python",
     "metadata": {},
     "outputs": [
      {
       "html": [
        "<div style=\"max-height:1000px;max-width:1500px;overflow:auto;\">\n",
        "<table border=\"1\" class=\"dataframe\">\n",
        "  <thead>\n",
        "    <tr style=\"text-align: right;\">\n",
        "      <th></th>\n",
        "      <th>Unnamed: 0</th>\n",
        "      <th>id</th>\n",
        "      <th>k</th>\n",
        "      <th>v</th>\n",
        "    </tr>\n",
        "  </thead>\n",
        "  <tbody>\n",
        "    <tr>\n",
        "      <th>0</th>\n",
        "      <td> 13792</td>\n",
        "      <td> 1628965</td>\n",
        "      <td> highway</td>\n",
        "      <td>    secondary</td>\n",
        "    </tr>\n",
        "    <tr>\n",
        "      <th>1</th>\n",
        "      <td> 13793</td>\n",
        "      <td> 1628965</td>\n",
        "      <td>    name</td>\n",
        "      <td>  Pudsey Road</td>\n",
        "    </tr>\n",
        "    <tr>\n",
        "      <th>2</th>\n",
        "      <td> 13794</td>\n",
        "      <td> 1628965</td>\n",
        "      <td>  oneway</td>\n",
        "      <td>          yes</td>\n",
        "    </tr>\n",
        "    <tr>\n",
        "      <th>3</th>\n",
        "      <td> 13795</td>\n",
        "      <td> 1628965</td>\n",
        "      <td>     ref</td>\n",
        "      <td>        B6154</td>\n",
        "    </tr>\n",
        "    <tr>\n",
        "      <th>4</th>\n",
        "      <td> 15603</td>\n",
        "      <td> 1709451</td>\n",
        "      <td> highway</td>\n",
        "      <td> unclassified</td>\n",
        "    </tr>\n",
        "  </tbody>\n",
        "</table>\n",
        "</div>"
       ],
       "metadata": {},
       "output_type": "pyout",
       "prompt_number": 36,
       "text": [
        "   Unnamed: 0       id        k             v\n",
        "0       13792  1628965  highway     secondary\n",
        "1       13793  1628965     name   Pudsey Road\n",
        "2       13794  1628965   oneway           yes\n",
        "3       13795  1628965      ref         B6154\n",
        "4       15603  1709451  highway  unclassified"
       ]
      }
     ],
     "prompt_number": 36
    },
    {
     "cell_type": "markdown",
     "metadata": {},
     "source": [
      "This corresponds to data from OpenStreetMap; see http://www.openstreetmap.org/way/1628965"
     ]
    },
    {
     "cell_type": "code",
     "collapsed": false,
     "input": [
      "# Check that there are as many items in leedsAll as unique ids in the above table\n",
      "len(lot.groupby('id')), len(lt)"
     ],
     "language": "python",
     "metadata": {},
     "outputs": [
      {
       "metadata": {},
       "output_type": "pyout",
       "prompt_number": 37,
       "text": [
        "(31026, 31026)"
       ]
      }
     ],
     "prompt_number": 37
    },
    {
     "cell_type": "code",
     "collapsed": false,
     "input": [
      "# Check that the items are the same\n",
      "ids_from_lot = [id for id,_ in lot.groupby('id')]\n",
      "ids_from_lot == ids_from_sf"
     ],
     "language": "python",
     "metadata": {},
     "outputs": [
      {
       "metadata": {},
       "output_type": "pyout",
       "prompt_number": 38,
       "text": [
        "True"
       ]
      }
     ],
     "prompt_number": 38
    },
    {
     "cell_type": "heading",
     "level": 2,
     "metadata": {},
     "source": [
      "leedsRoads.geojson"
     ]
    },
    {
     "cell_type": "code",
     "collapsed": false,
     "input": [
      "lr = pandas.read_json(\"data/leedsRoads.geojson\")"
     ],
     "language": "python",
     "metadata": {},
     "outputs": [],
     "prompt_number": 39
    },
    {
     "cell_type": "code",
     "collapsed": false,
     "input": [
      "len(lr), len(shapes) # same number as in shapefile"
     ],
     "language": "python",
     "metadata": {},
     "outputs": [
      {
       "metadata": {},
       "output_type": "pyout",
       "prompt_number": 40,
       "text": [
        "(31026, 31026)"
       ]
      }
     ],
     "prompt_number": 40
    },
    {
     "cell_type": "code",
     "collapsed": false,
     "input": [
      "lr.head()"
     ],
     "language": "python",
     "metadata": {},
     "outputs": [
      {
       "html": [
        "<div style=\"max-height:1000px;max-width:1500px;overflow:auto;\">\n",
        "<table border=\"1\" class=\"dataframe\">\n",
        "  <thead>\n",
        "    <tr style=\"text-align: right;\">\n",
        "      <th></th>\n",
        "      <th>features</th>\n",
        "      <th>type</th>\n",
        "    </tr>\n",
        "  </thead>\n",
        "  <tbody>\n",
        "    <tr>\n",
        "      <th>0</th>\n",
        "      <td> {'properties': {'wayNmId': 596060.0, 'lngthMt'...</td>\n",
        "      <td> FeatureCollection</td>\n",
        "    </tr>\n",
        "    <tr>\n",
        "      <th>1</th>\n",
        "      <td> {'properties': {'wayNmId': 91826.0, 'lngthMt':...</td>\n",
        "      <td> FeatureCollection</td>\n",
        "    </tr>\n",
        "    <tr>\n",
        "      <th>2</th>\n",
        "      <td> {'properties': {'wayNmId': 267314.0, 'lngthMt'...</td>\n",
        "      <td> FeatureCollection</td>\n",
        "    </tr>\n",
        "    <tr>\n",
        "      <th>3</th>\n",
        "      <td> {'properties': {'wayNmId': 294793.0, 'lngthMt'...</td>\n",
        "      <td> FeatureCollection</td>\n",
        "    </tr>\n",
        "    <tr>\n",
        "      <th>4</th>\n",
        "      <td> {'properties': {'wayNmId': 2465.0, 'lngthMt': ...</td>\n",
        "      <td> FeatureCollection</td>\n",
        "    </tr>\n",
        "  </tbody>\n",
        "</table>\n",
        "</div>"
       ],
       "metadata": {},
       "output_type": "pyout",
       "prompt_number": 41,
       "text": [
        "                                            features               type\n",
        "0  {'properties': {'wayNmId': 596060.0, 'lngthMt'...  FeatureCollection\n",
        "1  {'properties': {'wayNmId': 91826.0, 'lngthMt':...  FeatureCollection\n",
        "2  {'properties': {'wayNmId': 267314.0, 'lngthMt'...  FeatureCollection\n",
        "3  {'properties': {'wayNmId': 294793.0, 'lngthMt'...  FeatureCollection\n",
        "4  {'properties': {'wayNmId': 2465.0, 'lngthMt': ...  FeatureCollection"
       ]
      }
     ],
     "prompt_number": 41
    },
    {
     "cell_type": "code",
     "collapsed": false,
     "input": [
      "lr.features[0]"
     ],
     "language": "python",
     "metadata": {},
     "outputs": [
      {
       "metadata": {},
       "output_type": "pyout",
       "prompt_number": 42,
       "text": [
        "{'properties': {'wayNmId': 596060.0,\n",
        "  'lngthMt': 44.0,\n",
        "  'rtngFcI': 272.0,\n",
        "  'points': None,\n",
        "  'id': 1628965.0,\n",
        "  'elevtns': '60,58,57',\n",
        "  'island': 7.0,\n",
        "  'distncs': '31,13',\n",
        "  'flow': 'with'},\n",
        " 'type': 'Feature',\n",
        " 'geometry': {'coordinates': [[-1.627225, 53.798321],\n",
        "   [-1.62682, 53.798183],\n",
        "   [-1.626639, 53.798138]],\n",
        "  'type': 'LineString'}}"
       ]
      }
     ],
     "prompt_number": 42
    },
    {
     "cell_type": "markdown",
     "metadata": {},
     "source": [
      "Looks like the same information as in the leedsAll.xxx shapefile"
     ]
    },
    {
     "cell_type": "code",
     "collapsed": false,
     "input": [],
     "language": "python",
     "metadata": {},
     "outputs": [],
     "prompt_number": 42
    }
   ],
   "metadata": {}
  }
 ]
}