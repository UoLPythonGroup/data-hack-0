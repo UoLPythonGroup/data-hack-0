{
 "metadata": {
  "name": "",
  "signature": "sha256:8f1d18a2b054228b76c61d33f790c6890d064dd491f112d7939629d3e301abd1"
 },
 "nbformat": 3,
 "nbformat_minor": 0,
 "worksheets": [
  {
   "cells": [
    {
     "cell_type": "markdown",
     "metadata": {},
     "source": [
      "GeoPy is a Python package for calculating distances between longitude, latitude points, and for using publically available databases to find log/lat pairs for addresses etc.  Thanks to Richard Elwes for telling me about this.\n",
      "\n",
      "https://pypi.python.org/pypi/geopy\n",
      "\n",
      "http://geopy.readthedocs.org/en/latest/"
     ]
    },
    {
     "cell_type": "code",
     "collapsed": false,
     "input": [
      "from geopy.geocoders import GoogleV3\n",
      "geolocator = GoogleV3()\n",
      "address, (latitude, longitude) = geolocator.geocode(\"University of Leeds\")\n",
      "print(address,latitude, longitude)"
     ],
     "language": "python",
     "metadata": {},
     "outputs": [
      {
       "output_type": "stream",
       "stream": "stdout",
       "text": [
        "University of Leeds, Leeds, West Yorkshire LS2 9JT, UK 53.8066815 -1.5550328\n"
       ]
      }
     ],
     "prompt_number": 1
    },
    {
     "cell_type": "code",
     "collapsed": false,
     "input": [
      "data = geolocator.reverse(\"53.8275697, -1.5665666\")\n",
      "address, (lat, long) = data[0]\n",
      "print(\"Approximate address of a good bistro (Zucco) in Meanwood:\",address,\"(\",lat,\",\",long,\")\")"
     ],
     "language": "python",
     "metadata": {},
     "outputs": [
      {
       "output_type": "stream",
       "stream": "stdout",
       "text": [
        "Approximate address of a good bistro (Zucco) in Meanwood: Gordon View, Leeds, West Yorkshire LS6, UK ( 53.8275963 , -1.5668987 )\n"
       ]
      }
     ],
     "prompt_number": 2
    },
    {
     "cell_type": "code",
     "collapsed": false,
     "input": [
      "import geopy.distance as gp\n",
      "gp.vincenty((latitude, longitude),(lat,long)).meters"
     ],
     "language": "python",
     "metadata": {},
     "outputs": [
      {
       "metadata": {},
       "output_type": "pyout",
       "prompt_number": 3,
       "text": [
        "2455.537466628195"
       ]
      }
     ],
     "prompt_number": 3
    },
    {
     "cell_type": "heading",
     "level": 1,
     "metadata": {},
     "source": [
      "Compare distances in file to what Geopy gives"
     ]
    },
    {
     "cell_type": "markdown",
     "metadata": {},
     "source": [
      "So, let's load in the data we have, and where we actually have distances, check to see how they compare to what the Vincenty formula/method gives!"
     ]
    },
    {
     "cell_type": "code",
     "collapsed": false,
     "input": [
      "# Load in the JSON file to get geometry\n",
      "import pandas\n",
      "lr = pandas.read_json(\"pythonGeoHack/leedsRoads.geojson\")"
     ],
     "language": "python",
     "metadata": {},
     "outputs": [
      {
       "output_type": "stream",
       "stream": "stderr",
       "text": [
        "C:\\Python33\\Lib\\lib\\site-packages\\pandas\\io\\excel.py:626: UserWarning: Installed openpyxl is not supported at this time. Use >=1.6.1 and <2.0.0.\n",
        "  .format(openpyxl_compat.start_ver, openpyxl_compat.stop_ver))\n"
       ]
      }
     ],
     "prompt_number": 4
    },
    {
     "cell_type": "code",
     "collapsed": false,
     "input": [
      "data = lr.features[0]\n",
      "coords = data['geometry']['coordinates']\n",
      "print(type(coords),coords)\n",
      "print(data['properties']['lngthMt'])\n",
      "dists = data['properties']['distncs'].split(',')\n",
      "print(type(dists),dists)"
     ],
     "language": "python",
     "metadata": {},
     "outputs": [
      {
       "output_type": "stream",
       "stream": "stdout",
       "text": [
        "<class 'list'> [[-1.627225, 53.798321], [-1.62682, 53.798183], [-1.626639, 53.798138]]\n",
        "44.0\n",
        "<class 'list'> ['31', '13']\n"
       ]
      }
     ],
     "prompt_number": 5
    },
    {
     "cell_type": "code",
     "collapsed": false,
     "input": [
      "round_error_count = 0\n",
      "round_error_sum = 0.0\n",
      "missing_distances = 0\n",
      "distance_sum_wrong = 0\n",
      "vl_diff_sum = []\n",
      "\n",
      "for data in lr.features:\n",
      "    coords = data['geometry']['coordinates']\n",
      "    length = int(data['properties']['lngthMt'])\n",
      "    dists = data['properties']['distncs'].split(',')\n",
      "    # Remove trailing blank, if necessary\n",
      "    if not dists[-1]: dists.pop()\n",
      "    # Check distances\n",
      "    vl_sum = 0.0\n",
      "    for n in range(len(dists)):\n",
      "        vl = gp.vincenty((coords[n][1],coords[n][0]),(coords[n+1][1],coords[n+1][0])).meters\n",
      "        vl_sum += vl\n",
      "        if int(dists[n]) != int(0.5+vl):\n",
      "            round_error_count += 1\n",
      "            round_error_sum += abs(float(dists[n]) - vl)\n",
      "    # Check if sum correctly\n",
      "    if len(dists)+1 == len(coords):\n",
      "        sumlen = 0\n",
      "        for x in dists: sumlen += int(x)\n",
      "        if sumlen!=int(length): distance_sum_wrong+=1\n",
      "    else:\n",
      "        missing_distances += 1\n",
      "    # Compare Vincenty to claimed sum\n",
      "    vl_diff_sum.append(abs(float(length) - vl_sum))\n",
      "            \n",
      "print(\"Total number of differences between data and GeoPy:\", round_error_count)\n",
      "print(\"   Sum of errors:\", round_error_sum)\n",
      "print(\"Number of entries with missing distances:\", missing_distances)\n",
      "print(\"Number of entries where distances don't sum to claimed total length (but we should have enough data):\", distance_sum_wrong)"
     ],
     "language": "python",
     "metadata": {},
     "outputs": [
      {
       "output_type": "stream",
       "stream": "stdout",
       "text": [
        "Total number of differences between data and GeoPy: 10626\n",
        "   Sum of errors: 11737.470739377764\n",
        "Number of entries with missing distances: 447\n",
        "Number of entries where distances don't sum to claimed total length (but we should have enough data): 17\n"
       ]
      }
     ],
     "prompt_number": 6
    },
    {
     "cell_type": "code",
     "collapsed": false,
     "input": [
      "# vl_diff_sum is a list of errors; the distribution is quite interesting!\n",
      "vl_sort = sorted(vl_diff_sum)\n",
      "for x in range(10):\n",
      "    perc = x/10.0\n",
      "    print(x*10,\"th percentile:\",vl_sort[int(len(vl_sort)*perc)])\n",
      "print(\"worst:\", vl_sort[-1])\n",
      "print(\"10 worst entries; OSM ids:\")\n",
      "cutoff = vl_sort[-10]\n",
      "worst = []\n",
      "for n in range(len(vl_diff_sum)):\n",
      "    if vl_diff_sum[n] >= cutoff:\n",
      "        worst.append(int(lr.features[n]['properties']['id']))\n",
      "print(worst)"
     ],
     "language": "python",
     "metadata": {},
     "outputs": [
      {
       "output_type": "stream",
       "stream": "stdout",
       "text": [
        "0 th percentile: 1.2665547743040406e-05\n",
        "10 th percentile: 0.07316477959649426\n",
        "20 th percentile: 0.1469235180716595\n",
        "30 th percentile: 0.22163104547030343\n",
        "40 th percentile: 0.29743139776654104\n",
        "50 th percentile: 0.3771810979130219\n",
        "60 th percentile: 0.466362952645369\n",
        "70 th percentile: 0.5932755435547392\n",
        "80 th percentile: 0.8133205306721294\n",
        "90 th percentile: 1.2591087386351916\n",
        "worst: 3838.96846074933\n",
        "10 worst entries; OSM ids:\n",
        "[91081510, 118216301, 125960862, 138250043, 145565201, 184065740, 185334055, 199909022, 207400579, 223870210]\n"
       ]
      }
     ],
     "prompt_number": 7
    },
    {
     "cell_type": "markdown",
     "metadata": {},
     "source": [
      "From looking at e.g. http://www.openstreetmap.org/way/145565201 these appear to be long, off-road tracks.  But simple cumulative rounding errors cannot account for errors of e.g. >= 3km !!"
     ]
    },
    {
     "cell_type": "heading",
     "level": 1,
     "metadata": {},
     "source": [
      "Manually produce a graph"
     ]
    },
    {
     "cell_type": "markdown",
     "metadata": {},
     "source": [
      "Let's manually make a graph; aim is to check if any pair of points are linked in more than one way in the geometry (i.e. the underlying graph is not \"simple\")."
     ]
    },
    {
     "cell_type": "code",
     "collapsed": false,
     "input": [
      "coord_pairs = []\n",
      "for data in lr.features:\n",
      "    for xy in data['geometry']['coordinates']:\n",
      "        coord_pairs.append(xy)\n",
      "\n",
      "# Need to use tuple as sets can only be of immutable (technically, hashable) types\n",
      "nodes = set([tuple(xy) for xy in coord_pairs])\n",
      "print(type(nodes),len(nodes))"
     ],
     "language": "python",
     "metadata": {},
     "outputs": [
      {
       "output_type": "stream",
       "stream": "stdout",
       "text": [
        "<class 'set'> 144440\n"
       ]
      }
     ],
     "prompt_number": 8
    },
    {
     "cell_type": "code",
     "collapsed": false,
     "input": [
      "edges = []\n",
      "\n",
      "for data in lr.features:\n",
      "    coords = data['geometry']['coordinates']\n",
      "    for n in range(len(coords)-1):\n",
      "        # Edge from coords[n] to coords[n+1]\n",
      "        # Check if already an edge!\n",
      "        e = [coords[n],coords[n+1]]\n",
      "        edges.append(e)\n",
      "                     \n",
      "print(type(edges),len(edges))\n",
      "\n",
      "edges.sort()"
     ],
     "language": "python",
     "metadata": {},
     "outputs": [
      {
       "output_type": "stream",
       "stream": "stdout",
       "text": [
        "<class 'list'> 158106\n"
       ]
      }
     ],
     "prompt_number": 11
    },
    {
     "cell_type": "code",
     "collapsed": false,
     "input": [
      "multi_edges = []\n",
      "\n",
      "n = 0\n",
      "while n+1 < len(edges):\n",
      "    if edges[n] == edges[n+1]:\n",
      "        count = 2\n",
      "        while n+count<len(edges) and edges[n] == edges[n+count]: count += 1\n",
      "        print(\"Edge\",edges[n],\"in graph\",count,\"times!\")\n",
      "        multi_edges.append(edges[n])\n",
      "        n+=count # next loop\n",
      "    else: n+=1"
     ],
     "language": "python",
     "metadata": {},
     "outputs": [
      {
       "output_type": "stream",
       "stream": "stdout",
       "text": [
        "Edge [[-1.5492810000000001, 53.797756], [-1.5491169999999999, 53.797794]] in graph 2 times!\n",
        "Edge [[-1.5491169999999999, 53.797794], [-1.548982, 53.797752]] in graph 2 times!\n",
        "Edge [[-1.548982, 53.797752], [-1.548754, 53.797611]] in graph 2 times!\n",
        "Edge [[-1.548754, 53.797611], [-1.548376, 53.797386]] in graph 2 times!\n",
        "Edge [[-1.548376, 53.797386], [-1.5481289999999999, 53.797119]] in graph 2 times!\n",
        "Edge [[-1.5481289999999999, 53.797119], [-1.547867, 53.79697]] in graph 2 times!\n",
        "Edge [[-1.5470570000000001, 53.79768], [-1.5470570000000001, 53.797741]] in graph 3 times!\n",
        "Edge [[-1.5470570000000001, 53.797741], [-1.5470579999999998, 53.797802]] in graph 3 times!\n",
        "Edge [[-1.53844, 53.79541], [-1.538967, 53.795517]] in graph 2 times!\n"
       ]
      }
     ],
     "prompt_number": 12
    },
    {
     "cell_type": "code",
     "collapsed": false,
     "input": [
      "for e in multi_edges:\n",
      "    print(e)\n",
      "    for data in lr.features:\n",
      "        coords = data['geometry']['coordinates']\n",
      "        if e[0] in coords and e[1] in coords:\n",
      "            print(\"   part of OSM way:\",int(data['properties']['id']))"
     ],
     "language": "python",
     "metadata": {},
     "outputs": [
      {
       "output_type": "stream",
       "stream": "stdout",
       "text": [
        "[[-1.5492810000000001, 53.797756], [-1.5491169999999999, 53.797794]]\n",
        "   part of OSM way: 23167922\n",
        "   part of OSM way: 30717201\n",
        "[[-1.5491169999999999, 53.797794], [-1.548982, 53.797752]]\n",
        "   part of OSM way: 23167922\n",
        "   part of OSM way: 30717201\n",
        "[[-1.548982, 53.797752], [-1.548754, 53.797611]]"
       ]
      },
      {
       "output_type": "stream",
       "stream": "stdout",
       "text": [
        "\n",
        "   part of OSM way: 23167922\n",
        "   part of OSM way: 30717201\n",
        "[[-1.548754, 53.797611], [-1.548376, 53.797386]]\n",
        "   part of OSM way: 23167922\n",
        "   part of OSM way: 30717201\n",
        "[[-1.548376, 53.797386], [-1.5481289999999999, 53.797119]]\n",
        "   part of OSM way:"
       ]
      },
      {
       "output_type": "stream",
       "stream": "stdout",
       "text": [
        " 23167922\n",
        "   part of OSM way: 23170978\n",
        "[[-1.5481289999999999, 53.797119], [-1.547867, 53.79697]]\n",
        "   part of OSM way: 6292958\n",
        "   part of OSM way: 23170978\n",
        "[[-1.5470570000000001, 53.79768], [-1.5470570000000001, 53.797741]]"
       ]
      },
      {
       "output_type": "stream",
       "stream": "stdout",
       "text": [
        "\n",
        "   part of OSM way: 23170978\n",
        "   part of OSM way: 28842819\n",
        "   part of OSM way: 204556665\n",
        "[[-1.5470570000000001, 53.797741], [-1.5470579999999998, 53.797802]]\n",
        "   part of OSM way: 23170978\n",
        "   part of OSM way: 28842819\n",
        "   part of OSM way:"
       ]
      },
      {
       "output_type": "stream",
       "stream": "stdout",
       "text": [
        " 204556665\n",
        "[[-1.53844, 53.79541], [-1.538967, 53.795517]]\n",
        "   part of OSM way: 29185648\n",
        "   part of OSM way: 29185653\n"
       ]
      }
     ],
     "prompt_number": 17
    },
    {
     "cell_type": "markdown",
     "metadata": {},
     "source": [
      "Ah, so some bugs in the data: way 30717201 appears to be a building, not a path/road etc.  23170978 appears to be a pedestrean area!  Same for 204556665.  Ditto 29185653\n",
      "\n",
      "Moral: we can treat the graph as if it is simple!"
     ]
    },
    {
     "cell_type": "code",
     "collapsed": false,
     "input": [],
     "language": "python",
     "metadata": {},
     "outputs": []
    }
   ],
   "metadata": {}
  }
 ]
}