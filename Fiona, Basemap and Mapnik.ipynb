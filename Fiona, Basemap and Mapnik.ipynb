{
 "metadata": {
  "name": "",
  "signature": "sha256:4e64b509b83cd292a8503fc313c74823d8b8f1ebcbc379e5dfa428e9d096b209"
 },
 "nbformat": 3,
 "nbformat_minor": 0,
 "worksheets": [
  {
   "cells": [
    {
     "cell_type": "markdown",
     "metadata": {},
     "source": [
      "### Plotting geospatial data with Python\n",
      "\n",
      "A good tutorial, with (some) installation instructions:\n",
      "http://nbviewer.ipython.org/github/mqlaql/geospatial-data/blob/master/Geospatial-Data-with-Python.ipynb\n",
      "\n"
     ]
    },
    {
     "cell_type": "code",
     "collapsed": false,
     "input": [
      "%matplotlib inline\n",
      "import os\n",
      "\n",
      "from IPython.core.display import Image\n",
      "import numpy as np\n",
      "import matplotlib.pyplot as plt\n",
      "\n",
      "import fiona\n",
      "import mapnik\n",
      "import mpl_toolkits.basemap\n",
      "import shapely.geometry"
     ],
     "language": "python",
     "metadata": {},
     "outputs": []
    },
    {
     "cell_type": "code",
     "collapsed": false,
     "input": [
      "BASE_FOLDER = '/Users/jp/Downloads/pythonGeoHack'"
     ],
     "language": "python",
     "metadata": {},
     "outputs": []
    },
    {
     "cell_type": "markdown",
     "metadata": {},
     "source": [
      "## Fiona\n",
      "\n",
      "http://toblerity.org/fiona/manual.html\n",
      "\n",
      "`fiona` provides simple geographical datafile parsers.\n",
      "\n",
      "Easy to read and write shapefiles."
     ]
    },
    {
     "cell_type": "code",
     "collapsed": false,
     "input": [
      "leeds_shapefile = os.path.join(BASE_FOLDER, 'leedsAll.shp')\n",
      "f = fiona.open(leeds_shapefile)\n",
      "leeds = list(f)\n",
      "f.schema"
     ],
     "language": "python",
     "metadata": {},
     "outputs": []
    },
    {
     "cell_type": "code",
     "collapsed": false,
     "input": [
      "leeds[161]"
     ],
     "language": "python",
     "metadata": {},
     "outputs": []
    },
    {
     "cell_type": "code",
     "collapsed": false,
     "input": [
      "import shapely.geometry\n",
      "\n",
      "geo = shapely.geometry.shape(leeds[0]['geometry'])\n",
      "geo"
     ],
     "language": "python",
     "metadata": {},
     "outputs": []
    },
    {
     "cell_type": "code",
     "collapsed": false,
     "input": [
      "plt.plot(*geo.xy)"
     ],
     "language": "python",
     "metadata": {},
     "outputs": []
    },
    {
     "cell_type": "markdown",
     "metadata": {},
     "source": [
      "### Mapnik\n",
      "\n",
      "https://github.com/mapnik/mapnik/wiki\n",
      "\n",
      "- The toolchain used by OpenStreetMap\n",
      "- Very fast (it's a wrapper around C++)\n",
      "- Can create tiled maps for running your own OpenStreetMap style\n",
      "- Confusing at first\n",
      "- Documentation is really thin\n",
      "- Error messages are horrible\n",
      "- Styling can also be done by using a XML file, or even 'CartoCSS' - a CSS like language"
     ]
    },
    {
     "cell_type": "code",
     "collapsed": false,
     "input": [
      "def show_mapnik(m):\n",
      "    \"\"\"Returns an IPython Image of the rendered map.\"\"\"\n",
      "    im = mapnik.Image(m.width, m.height)\n",
      "    mapnik.render(m, im)\n",
      "    return Image(data=im.tostring('png32'))"
     ],
     "language": "python",
     "metadata": {},
     "outputs": []
    },
    {
     "cell_type": "code",
     "collapsed": false,
     "input": [
      "import mapnik\n",
      "\n",
      "m = mapnik.Map(600, 600)\n",
      "\n",
      "layer = mapnik.Layer('contour')\n",
      "layer.datasource = mapnik.Shapefile(file=leeds_shapefile)\n",
      "\n",
      "style = mapnik.Style()\n",
      "rule = mapnik.Rule()\n",
      "\n",
      "line_symbolizer = mapnik.LineSymbolizer(mapnik.Color('green'),0.4)\n",
      "rule.symbols.append(line_symbolizer)\n",
      "\n",
      "m.layers.append(layer)\n",
      "style.rules.append(rule)\n",
      "m.append_style('My Style', style)\n",
      "layer.styles.append('My Style')\n",
      "\n",
      "m.layers.append(layer)\n",
      "m.zoom_all()\n",
      "show_mapnik(m)"
     ],
     "language": "python",
     "metadata": {},
     "outputs": []
    },
    {
     "cell_type": "code",
     "collapsed": false,
     "input": [
      "m = mapnik.Map(600, 600)\n",
      "\n",
      "layer = mapnik.Layer('contour')\n",
      "layer.datasource = mapnik.Shapefile(file=leeds_shapefile)\n",
      "\n",
      "style = mapnik.Style()\n",
      "rule = mapnik.Rule()\n",
      "\n",
      "line_symbolizer = mapnik.LineSymbolizer(mapnik.Color('green'),0.4)\n",
      "rule.symbols.append(line_symbolizer)\n",
      "\n",
      "m.layers.append(layer)\n",
      "style.rules.append(rule)\n",
      "\n",
      "\n",
      "rule2 = mapnik.Rule()\n",
      "rule2.symbols.append(mapnik.LineSymbolizer(mapnik.Color('red'),1))\n",
      "\n",
      "rule2.filter = mapnik.Filter('[flow] = \"with\"')\n",
      "\n",
      "style.rules.append(rule2)\n",
      "\n",
      "m.append_style('My Style', style)\n",
      "layer.styles.append('My Style')\n",
      "\n",
      "m.layers.append(layer)\n",
      "m.zoom_all()\n",
      "show_mapnik(m)"
     ],
     "language": "python",
     "metadata": {},
     "outputs": []
    },
    {
     "cell_type": "markdown",
     "metadata": {},
     "source": [
      "### Matplotlib basemap\n",
      "\n",
      "http://matplotlib.org/basemap/\n",
      "\n",
      "- Useful for plotting national and global data\n",
      "- Pretty well documented\n",
      "- Can handle pretty much any projection you can think of\n",
      "- Not so straightforward to plot a local area\n"
     ]
    },
    {
     "cell_type": "code",
     "collapsed": false,
     "input": [
      "### DON'T do it this way! ###\n",
      "# Slow and projection is wrong\n",
      "\n",
      "\n",
      "fig = plt.figure(figsize=(8,8))\n",
      "for l in leeds:\n",
      "    line = shapely.geometry.shape(l['geometry'])\n",
      "    plt.plot(*line.xy, color='green')"
     ],
     "language": "python",
     "metadata": {},
     "outputs": []
    },
    {
     "cell_type": "code",
     "collapsed": false,
     "input": [
      "from mpl_toolkits.basemap import Basemap\n",
      "\n",
      "plt.figure(figsize=(12,12))\n",
      "m = Basemap(projection='cyl', lon_0=0)\n",
      "m.shadedrelief()\n",
      "m.drawgreatcircle(0.1, 51.5, 114.2, 22.2, color='red')  # London to Hong Kong"
     ],
     "language": "python",
     "metadata": {},
     "outputs": []
    },
    {
     "cell_type": "code",
     "collapsed": false,
     "input": [
      "plt.figure(figsize=(12,12))\n",
      "m = Basemap(projection='moll', lon_0=0)\n",
      "m.etopo()\n",
      "m.drawgreatcircle(0.1, 51.5, 114.2, 22.2, color='red')"
     ],
     "language": "python",
     "metadata": {},
     "outputs": []
    },
    {
     "cell_type": "code",
     "collapsed": false,
     "input": [
      "# basemap has country outlines as well\n",
      "\n",
      "from mpl_toolkits.basemap import Basemap\n",
      "fig = plt.figure(figsize=(12,12))\n",
      "ax = fig.add_subplot(111)\n",
      "\n",
      "bmap = Basemap(projection='merc',\n",
      "        llcrnrlon=-11.0,\n",
      "        llcrnrlat=46.87,\n",
      "        urcrnrlon=2.0,\n",
      "        urcrnrlat=60.72,\n",
      "        resolution='h')\n",
      "\n",
      "bmap.drawcoastlines(linewidth=0.25)\n",
      "bmap.fillcontinents(zorder=-1, color='green', alpha=0.5)\n",
      "bmap"
     ],
     "language": "python",
     "metadata": {},
     "outputs": []
    },
    {
     "cell_type": "code",
     "collapsed": false,
     "input": [
      "# Call the basemap to convert lat-lon to x-y for the chart.\n",
      "bmap(53.85, -1.75)"
     ],
     "language": "python",
     "metadata": {},
     "outputs": []
    },
    {
     "cell_type": "code",
     "collapsed": false,
     "input": [
      "# For plotting a local area, we can use a similar mercator map\n",
      "# define the bottom left and top right coordinates in lat/lon.\n",
      "leeds_map = Basemap(projection='merc',\n",
      "                    llcrnrlat=53.70,\n",
      "                    llcrnrlon=-1.45,\n",
      "                    urcrnrlat=53.75,\n",
      "                    urcrnrlon=-1.25)\n"
     ],
     "language": "python",
     "metadata": {},
     "outputs": []
    },
    {
     "cell_type": "code",
     "collapsed": false,
     "input": [
      "# use LineCollections instead of plotting each line to the axes individually - much faster\n",
      "\n",
      "from matplotlib.collections import LineCollection\n",
      "\n",
      "fig = plt.figure(figsize=(12,12))\n",
      "ax = fig.add_subplot(111)\n",
      "\n",
      "lines = [[leeds_map(lat, lon) for lat, lon in \n",
      "              np.asarray(shapely.geometry.shape(x['geometry']))] for x in leeds]\n",
      "\n",
      "linecoll = LineCollection(lines, linewidths=0.25)\n",
      "\n",
      "ax.add_collection(linecoll)\n",
      "\n",
      "leeds_map.drawmapboundary(color='white')\n",
      "leeds_map"
     ],
     "language": "python",
     "metadata": {},
     "outputs": []
    },
    {
     "cell_type": "code",
     "collapsed": false,
     "input": [
      "roads = []\n",
      "steep_roads = []\n",
      "\n",
      "fig = plt.figure(figsize=(12,12))\n",
      "ax = fig.add_subplot(111)\n",
      "\n",
      "for l in leeds:\n",
      "    props = l['properties']\n",
      "    geo = shapely.geometry.shape(l['geometry'])\n",
      "    pts = [leeds_map(lat, lon) for lat, lon in np.asarray(geo)]  # convert lat-lon to mercator x,y \n",
      "    roads.append(pts)\n",
      "    \n",
      "    dist = [float(x) for x in props['distncs'].split(',') if x != '']\n",
      "    elev = [float(x) for x in props['elevtns'].split(',') if x != '']\n",
      "    # where the data is available, calculate the gradient of each section of line.\n",
      "    if len(elev) == (len(dist) + 1):\n",
      "        elev = [x-y for x,y in zip(elev[:-1], elev[1:])]\n",
      "        grad = np.abs(elev) / dist\n",
      "        if np.any(grad > 0.2): # show the steep roads in red\n",
      "            steep_roads.append(pts)\n",
      "\n",
      "ax.add_collection(LineCollection(roads, linewidths=0.25, color='grey'))\n",
      "ax.add_collection(LineCollection(steep_roads, linewidths=0.5, color='red'))\n",
      "leeds_map.drawmapboundary(color='white')\n",
      "leeds_map"
     ],
     "language": "python",
     "metadata": {},
     "outputs": []
    }
   ],
   "metadata": {}
  }
 ]
}