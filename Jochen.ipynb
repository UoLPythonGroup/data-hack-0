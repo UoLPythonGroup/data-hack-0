{
 "metadata": {
  "name": "",
  "signature": "sha256:af035dd6bb0721334d6a2a8d7cbd9163fce8c698a3595dbb5a0d0fdaba7ef26e"
 },
 "nbformat": 3,
 "nbformat_minor": 0,
 "worksheets": [
  {
   "cells": [
    {
     "cell_type": "heading",
     "level": 2,
     "metadata": {},
     "source": [
      "leedsAll"
     ]
    },
    {
     "cell_type": "code",
     "collapsed": false,
     "input": [
      "import shapefile"
     ],
     "language": "python",
     "metadata": {},
     "outputs": [],
     "prompt_number": 54
    },
    {
     "cell_type": "code",
     "collapsed": false,
     "input": [
      "sf = shapefile.Reader(\"pythonGeoHack/leedsAll\")"
     ],
     "language": "python",
     "metadata": {},
     "outputs": [],
     "prompt_number": 55
    },
    {
     "cell_type": "code",
     "collapsed": false,
     "input": [
      "sf.fields"
     ],
     "language": "python",
     "metadata": {},
     "outputs": [
      {
       "metadata": {},
       "output_type": "pyout",
       "prompt_number": 56,
       "text": [
        "[('DeletionFlag', 'C', 1, 0),\n",
        " ['id', 'N', 24, 15],\n",
        " ['wayNmId', 'N', 24, 15],\n",
        " ['lngthMt', 'N', 24, 15],\n",
        " ['rtngFcI', 'N', 24, 15],\n",
        " ['flow', 'C', 80, 0],\n",
        " ['island', 'N', 24, 15],\n",
        " ['points', 'C', 80, 0],\n",
        " ['elevtns', 'C', 80, 0],\n",
        " ['distncs', 'C', 80, 0]]"
       ]
      }
     ],
     "prompt_number": 56
    },
    {
     "cell_type": "code",
     "collapsed": false,
     "input": [
      "sf.bbox"
     ],
     "language": "python",
     "metadata": {},
     "outputs": [
      {
       "metadata": {},
       "output_type": "pyout",
       "prompt_number": 57,
       "text": [
        "[-1.808509, 53.699734, -1.265512, 53.950981]"
       ]
      }
     ],
     "prompt_number": 57
    },
    {
     "cell_type": "code",
     "collapsed": false,
     "input": [
      "shapes = sf.shapes()"
     ],
     "language": "python",
     "metadata": {},
     "outputs": [],
     "prompt_number": 86
    },
    {
     "cell_type": "code",
     "collapsed": false,
     "input": [
      "len(shapes)"
     ],
     "language": "python",
     "metadata": {},
     "outputs": [
      {
       "metadata": {},
       "output_type": "pyout",
       "prompt_number": 118,
       "text": [
        "31026"
       ]
      }
     ],
     "prompt_number": 118
    },
    {
     "cell_type": "code",
     "collapsed": false,
     "input": [
      "s0 = shapes[0]"
     ],
     "language": "python",
     "metadata": {},
     "outputs": [],
     "prompt_number": 119
    },
    {
     "cell_type": "code",
     "collapsed": false,
     "input": [
      "s0.shapeType"
     ],
     "language": "python",
     "metadata": {},
     "outputs": [
      {
       "metadata": {},
       "output_type": "pyout",
       "prompt_number": 122,
       "text": [
        "3"
       ]
      }
     ],
     "prompt_number": 122
    },
    {
     "cell_type": "code",
     "collapsed": false,
     "input": [
      "s0.points"
     ],
     "language": "python",
     "metadata": {},
     "outputs": [
      {
       "metadata": {},
       "output_type": "pyout",
       "prompt_number": 123,
       "text": [
        "[[-1.627225, 53.798321], [-1.62682, 53.798183], [-1.626639, 53.798138]]"
       ]
      }
     ],
     "prompt_number": 123
    },
    {
     "cell_type": "code",
     "collapsed": false,
     "input": [
      "records = sf.records()"
     ],
     "language": "python",
     "metadata": {},
     "outputs": [],
     "prompt_number": 92
    },
    {
     "cell_type": "code",
     "collapsed": false,
     "input": [
      "len(records)"
     ],
     "language": "python",
     "metadata": {},
     "outputs": [
      {
       "metadata": {},
       "output_type": "pyout",
       "prompt_number": 100,
       "text": [
        "31026"
       ]
      }
     ],
     "prompt_number": 100
    },
    {
     "cell_type": "code",
     "collapsed": false,
     "input": [
      "records[0]"
     ],
     "language": "python",
     "metadata": {},
     "outputs": [
      {
       "metadata": {},
       "output_type": "pyout",
       "prompt_number": 102,
       "text": [
        "[1628965.0,\n",
        " 596060.0,\n",
        " 44.0,\n",
        " 272.0,\n",
        " 'with',\n",
        " 7.0,\n",
        " b'                                                                                ',\n",
        " '60,58,57',\n",
        " '31,13']"
       ]
      }
     ],
     "prompt_number": 102
    },
    {
     "cell_type": "markdown",
     "metadata": {},
     "source": [
      "The 'DeletionFlag' field seems to be missing, the other values correspond to `sf.fields`.  `points` (column `[6]`) seems to be empty throughout.  `elevtns` (column `[7]`) seems nonempty but is sometimes truncated."
     ]
    },
    {
     "cell_type": "heading",
     "level": 2,
     "metadata": {},
     "source": [
      "mwayRF"
     ]
    },
    {
     "cell_type": "code",
     "collapsed": false,
     "input": [
      "import pandas as pd"
     ],
     "language": "python",
     "metadata": {},
     "outputs": [],
     "prompt_number": 60
    },
    {
     "cell_type": "code",
     "collapsed": false,
     "input": [
      "RF = pd.read_csv('pythonGeoHack/mwayRF.csv')"
     ],
     "language": "python",
     "metadata": {},
     "outputs": [],
     "prompt_number": 61
    },
    {
     "cell_type": "code",
     "collapsed": false,
     "input": [
      "RF = RF.drop('Unnamed: 0', 1)"
     ],
     "language": "python",
     "metadata": {},
     "outputs": [],
     "prompt_number": 62
    },
    {
     "cell_type": "code",
     "collapsed": false,
     "input": [
      "RF.head()"
     ],
     "language": "python",
     "metadata": {},
     "outputs": [
      {
       "html": [
        "<div style=\"max-height:1000px;max-width:1500px;overflow:auto;\">\n",
        "<table border=\"1\" class=\"dataframe\">\n",
        "  <thead>\n",
        "    <tr style=\"text-align: right;\">\n",
        "      <th></th>\n",
        "      <th>id</th>\n",
        "      <th>color</th>\n",
        "      <th>cyclable</th>\n",
        "      <th>walkable</th>\n",
        "      <th>speed</th>\n",
        "      <th>quietness</th>\n",
        "      <th>pause</th>\n",
        "      <th>rfHash</th>\n",
        "    </tr>\n",
        "  </thead>\n",
        "  <tbody>\n",
        "    <tr>\n",
        "      <th>0</th>\n",
        "      <td> 1</td>\n",
        "      <td> #EAEAFF</td>\n",
        "      <td>  no</td>\n",
        "      <td>  no</td>\n",
        "      <td>  1</td>\n",
        "      <td>  1</td>\n",
        "      <td> 0</td>\n",
        "      <td>          0</td>\n",
        "    </tr>\n",
        "    <tr>\n",
        "      <th>1</th>\n",
        "      <td> 2</td>\n",
        "      <td> #00DD00</td>\n",
        "      <td> yes</td>\n",
        "      <td> yes</td>\n",
        "      <td> 26</td>\n",
        "      <td> 90</td>\n",
        "      <td> 0</td>\n",
        "      <td> 3667591168</td>\n",
        "    </tr>\n",
        "    <tr>\n",
        "      <th>2</th>\n",
        "      <td> 3</td>\n",
        "      <td> #FCC100</td>\n",
        "      <td> yes</td>\n",
        "      <td> yes</td>\n",
        "      <td> 12</td>\n",
        "      <td> 89</td>\n",
        "      <td> 7</td>\n",
        "      <td> 3649896441</td>\n",
        "    </tr>\n",
        "    <tr>\n",
        "      <th>3</th>\n",
        "      <td> 4</td>\n",
        "      <td> #00DD00</td>\n",
        "      <td> yes</td>\n",
        "      <td> yes</td>\n",
        "      <td>  9</td>\n",
        "      <td> 94</td>\n",
        "      <td> 7</td>\n",
        "      <td> 3733585913</td>\n",
        "    </tr>\n",
        "    <tr>\n",
        "      <th>4</th>\n",
        "      <td> 5</td>\n",
        "      <td> #FCC100</td>\n",
        "      <td> yes</td>\n",
        "      <td> yes</td>\n",
        "      <td> 24</td>\n",
        "      <td> 80</td>\n",
        "      <td> 1</td>\n",
        "      <td> 3499687935</td>\n",
        "    </tr>\n",
        "  </tbody>\n",
        "</table>\n",
        "</div>"
       ],
       "metadata": {},
       "output_type": "pyout",
       "prompt_number": 63,
       "text": [
        "   id    color cyclable walkable  speed  quietness  pause      rfHash\n",
        "0   1  #EAEAFF       no       no      1          1      0           0\n",
        "1   2  #00DD00      yes      yes     26         90      0  3667591168\n",
        "2   3  #FCC100      yes      yes     12         89      7  3649896441\n",
        "3   4  #00DD00      yes      yes      9         94      7  3733585913\n",
        "4   5  #FCC100      yes      yes     24         80      1  3499687935"
       ]
      }
     ],
     "prompt_number": 63
    },
    {
     "cell_type": "heading",
     "level": 2,
     "metadata": {},
     "source": [
      "mwayBR"
     ]
    },
    {
     "cell_type": "code",
     "collapsed": false,
     "input": [
      "BR = pd.read_csv('pythonGeoHack/mwayBR.csv', encoding='cp1252')"
     ],
     "language": "python",
     "metadata": {},
     "outputs": [],
     "prompt_number": 64
    },
    {
     "cell_type": "code",
     "collapsed": false,
     "input": [
      "BR = BR.drop('Unnamed: 0', 1)"
     ],
     "language": "python",
     "metadata": {},
     "outputs": [],
     "prompt_number": 65
    },
    {
     "cell_type": "code",
     "collapsed": false,
     "input": [
      "BR.head()"
     ],
     "language": "python",
     "metadata": {},
     "outputs": [
      {
       "html": [
        "<div style=\"max-height:1000px;max-width:1500px;overflow:auto;\">\n",
        "<table border=\"1\" class=\"dataframe\">\n",
        "  <thead>\n",
        "    <tr style=\"text-align: right;\">\n",
        "      <th></th>\n",
        "      <th>id</th>\n",
        "      <th>originalTags</th>\n",
        "      <th>name</th>\n",
        "      <th>network</th>\n",
        "      <th>cnRef</th>\n",
        "      <th>sumLengthsKm</th>\n",
        "      <th>rating</th>\n",
        "    </tr>\n",
        "  </thead>\n",
        "  <tbody>\n",
        "    <tr>\n",
        "      <th>0</th>\n",
        "      <td> 2649</td>\n",
        "      <td>     network=lcn\\tref=4\\troute=bicycle\\ttype=route</td>\n",
        "      <td>        Local cycle network 4</td>\n",
        "      <td> lcn</td>\n",
        "      <td>  4</td>\n",
        "      <td>  1</td>\n",
        "      <td> suggested</td>\n",
        "    </tr>\n",
        "    <tr>\n",
        "      <th>1</th>\n",
        "      <td> 2650</td>\n",
        "      <td>    network=lcn\\tref=4A\\troute=bicycle\\ttype=route</td>\n",
        "      <td>       Local cycle network 4A</td>\n",
        "      <td> lcn</td>\n",
        "      <td> 4A</td>\n",
        "      <td>  3</td>\n",
        "      <td> suggested</td>\n",
        "    </tr>\n",
        "    <tr>\n",
        "      <th>2</th>\n",
        "      <td> 2695</td>\n",
        "      <td>    network=lcn\\tref=29\\troute=bicycle\\ttype=route</td>\n",
        "      <td>       Local cycle network 29</td>\n",
        "      <td> lcn</td>\n",
        "      <td> 29</td>\n",
        "      <td>  7</td>\n",
        "      <td> suggested</td>\n",
        "    </tr>\n",
        "    <tr>\n",
        "      <th>3</th>\n",
        "      <td> 2696</td>\n",
        "      <td> name=London Cycle Network Route 3\\tnetwork=lcn...</td>\n",
        "      <td> London Cycle Network Route 3</td>\n",
        "      <td> lcn</td>\n",
        "      <td>  3</td>\n",
        "      <td> 19</td>\n",
        "      <td> suggested</td>\n",
        "    </tr>\n",
        "    <tr>\n",
        "      <th>4</th>\n",
        "      <td> 2706</td>\n",
        "      <td> name=London Cycle Network Route 2\\tnetwork=lcn...</td>\n",
        "      <td> London Cycle Network Route 2</td>\n",
        "      <td> lcn</td>\n",
        "      <td>  2</td>\n",
        "      <td> 14</td>\n",
        "      <td> suggested</td>\n",
        "    </tr>\n",
        "  </tbody>\n",
        "</table>\n",
        "</div>"
       ],
       "metadata": {},
       "output_type": "pyout",
       "prompt_number": 66,
       "text": [
        "     id                                       originalTags  \\\n",
        "0  2649      network=lcn\\tref=4\\troute=bicycle\\ttype=route   \n",
        "1  2650     network=lcn\\tref=4A\\troute=bicycle\\ttype=route   \n",
        "2  2695     network=lcn\\tref=29\\troute=bicycle\\ttype=route   \n",
        "3  2696  name=London Cycle Network Route 3\\tnetwork=lcn...   \n",
        "4  2706  name=London Cycle Network Route 2\\tnetwork=lcn...   \n",
        "\n",
        "                           name network cnRef  sumLengthsKm     rating  \n",
        "0         Local cycle network 4     lcn     4             1  suggested  \n",
        "1        Local cycle network 4A     lcn    4A             3  suggested  \n",
        "2        Local cycle network 29     lcn    29             7  suggested  \n",
        "3  London Cycle Network Route 3     lcn     3            19  suggested  \n",
        "4  London Cycle Network Route 2     lcn     2            14  suggested  "
       ]
      }
     ],
     "prompt_number": 66
    },
    {
     "cell_type": "heading",
     "level": 2,
     "metadata": {},
     "source": [
      "leedsTags"
     ]
    },
    {
     "cell_type": "markdown",
     "metadata": {},
     "source": [
      "This table seems to have extra columns for the records in leedsAll.  It has the same number of rows and the id columns seem to match."
     ]
    },
    {
     "cell_type": "code",
     "collapsed": false,
     "input": [
      "lt = pd.read_csv('pythonGeoHack/leedsTags.csv')"
     ],
     "language": "python",
     "metadata": {},
     "outputs": [],
     "prompt_number": 67
    },
    {
     "cell_type": "code",
     "collapsed": false,
     "input": [
      "lt = lt.drop('Unnamed: 0', 1)"
     ],
     "language": "python",
     "metadata": {},
     "outputs": [],
     "prompt_number": 68
    },
    {
     "cell_type": "code",
     "collapsed": false,
     "input": [
      "lt.head()"
     ],
     "language": "python",
     "metadata": {},
     "outputs": [
      {
       "html": [
        "<div style=\"max-height:1000px;max-width:1500px;overflow:auto;\">\n",
        "<table border=\"1\" class=\"dataframe\">\n",
        "  <thead>\n",
        "    <tr style=\"text-align: right;\">\n",
        "      <th></th>\n",
        "      <th>id</th>\n",
        "      <th>highway</th>\n",
        "      <th>cycleway</th>\n",
        "      <th>access</th>\n",
        "      <th>foot</th>\n",
        "      <th>bicycle</th>\n",
        "      <th>oneway</th>\n",
        "      <th>routeId</th>\n",
        "      <th>routingFactorId</th>\n",
        "    </tr>\n",
        "  </thead>\n",
        "  <tbody>\n",
        "    <tr>\n",
        "      <th>0</th>\n",
        "      <td> 1628965</td>\n",
        "      <td>    secondary</td>\n",
        "      <td> NaN</td>\n",
        "      <td>  no</td>\n",
        "      <td>  no</td>\n",
        "      <td> yes</td>\n",
        "      <td> yes</td>\n",
        "      <td> 0</td>\n",
        "      <td> 272</td>\n",
        "    </tr>\n",
        "    <tr>\n",
        "      <th>1</th>\n",
        "      <td> 1709451</td>\n",
        "      <td> unclassified</td>\n",
        "      <td> NaN</td>\n",
        "      <td> yes</td>\n",
        "      <td> yes</td>\n",
        "      <td> yes</td>\n",
        "      <td> yes</td>\n",
        "      <td> 0</td>\n",
        "      <td> 337</td>\n",
        "    </tr>\n",
        "    <tr>\n",
        "      <th>2</th>\n",
        "      <td> 1709456</td>\n",
        "      <td>     tertiary</td>\n",
        "      <td> NaN</td>\n",
        "      <td> yes</td>\n",
        "      <td> yes</td>\n",
        "      <td> yes</td>\n",
        "      <td>  no</td>\n",
        "      <td> 0</td>\n",
        "      <td>  67</td>\n",
        "    </tr>\n",
        "    <tr>\n",
        "      <th>3</th>\n",
        "      <td> 1709460</td>\n",
        "      <td> unclassified</td>\n",
        "      <td> NaN</td>\n",
        "      <td> yes</td>\n",
        "      <td> yes</td>\n",
        "      <td> yes</td>\n",
        "      <td>  no</td>\n",
        "      <td> 0</td>\n",
        "      <td> 337</td>\n",
        "    </tr>\n",
        "    <tr>\n",
        "      <th>4</th>\n",
        "      <td> 2340822</td>\n",
        "      <td>        trunk</td>\n",
        "      <td> NaN</td>\n",
        "      <td>  no</td>\n",
        "      <td>  no</td>\n",
        "      <td> yes</td>\n",
        "      <td> yes</td>\n",
        "      <td> 0</td>\n",
        "      <td> 396</td>\n",
        "    </tr>\n",
        "  </tbody>\n",
        "</table>\n",
        "</div>"
       ],
       "metadata": {},
       "output_type": "pyout",
       "prompt_number": 95,
       "text": [
        "        id       highway cycleway access foot bicycle oneway  routeId  \\\n",
        "0  1628965     secondary      NaN     no   no     yes    yes        0   \n",
        "1  1709451  unclassified      NaN    yes  yes     yes    yes        0   \n",
        "2  1709456      tertiary      NaN    yes  yes     yes     no        0   \n",
        "3  1709460  unclassified      NaN    yes  yes     yes     no        0   \n",
        "4  2340822         trunk      NaN     no   no     yes    yes        0   \n",
        "\n",
        "   routingFactorId  \n",
        "0              272  \n",
        "1              337  \n",
        "2               67  \n",
        "3              337  \n",
        "4              396  "
       ]
      }
     ],
     "prompt_number": 95
    },
    {
     "cell_type": "code",
     "collapsed": false,
     "input": [
      "len(lt)"
     ],
     "language": "python",
     "metadata": {},
     "outputs": [
      {
       "metadata": {},
       "output_type": "pyout",
       "prompt_number": 96,
       "text": [
        "31026"
       ]
      }
     ],
     "prompt_number": 96
    },
    {
     "cell_type": "code",
     "collapsed": false,
     "input": [
      "# Possible values (with counts) for highway column\n",
      "lt.groupby('highway').size()"
     ],
     "language": "python",
     "metadata": {},
     "outputs": [
      {
       "metadata": {},
       "output_type": "pyout",
       "prompt_number": 70,
       "text": [
        "highway\n",
        "bridleway          245\n",
        "cycleway           489\n",
        "footway           5344\n",
        "living_street        6\n",
        "motorway_link      164\n",
        "path               276\n",
        "pedestrian         123\n",
        "primary            614\n",
        "primary_link        55\n",
        "residential      13097\n",
        "road                49\n",
        "secondary          294\n",
        "service           5270\n",
        "steps              287\n",
        "tertiary          1256\n",
        "track              885\n",
        "trunk              744\n",
        "trunk_link         139\n",
        "unclassified      1689\n",
        "dtype: int64"
       ]
      }
     ],
     "prompt_number": 70
    },
    {
     "cell_type": "code",
     "collapsed": false,
     "input": [
      "lt.groupby('cycleway').size()"
     ],
     "language": "python",
     "metadata": {},
     "outputs": [
      {
       "metadata": {},
       "output_type": "pyout",
       "prompt_number": 71,
       "text": [
        "cycleway\n",
        "lane               58\n",
        "opposite_lane       5\n",
        "opposite_track      3\n",
        "share_busway        7\n",
        "shared              5\n",
        "track             534\n",
        "dtype: int64"
       ]
      }
     ],
     "prompt_number": 71
    },
    {
     "cell_type": "code",
     "collapsed": false,
     "input": [
      "lt.groupby('bicycle').size()"
     ],
     "language": "python",
     "metadata": {},
     "outputs": [
      {
       "metadata": {},
       "output_type": "pyout",
       "prompt_number": 72,
       "text": [
        "bicycle\n",
        "designated       355\n",
        "destination       73\n",
        "dismount        5842\n",
        "permissive       140\n",
        "private           11\n",
        "yes            24590\n",
        "dtype: int64"
       ]
      }
     ],
     "prompt_number": 72
    },
    {
     "cell_type": "code",
     "collapsed": false,
     "input": [
      "lt.groupby('routeId').size()"
     ],
     "language": "python",
     "metadata": {},
     "outputs": [
      {
       "metadata": {},
       "output_type": "pyout",
       "prompt_number": 97,
       "text": [
        "routeId\n",
        "0          30443\n",
        "17883         27\n",
        "357215        37\n",
        "1548002       73\n",
        "2054077       34\n",
        "3177071       61\n",
        "3177124       48\n",
        "3177601       64\n",
        "3179002       72\n",
        "3179113       67\n",
        "3723504       99\n",
        "3723713        1\n",
        "dtype: int64"
       ]
      }
     ],
     "prompt_number": 97
    },
    {
     "cell_type": "heading",
     "level": 2,
     "metadata": {},
     "source": [
      "leedsOSMTags"
     ]
    },
    {
     "cell_type": "code",
     "collapsed": false,
     "input": [
      "osm_tags = pd.read_csv(\"pythonGeoHack/leedsOSMTags.csv\")"
     ],
     "language": "python",
     "metadata": {},
     "outputs": [],
     "prompt_number": 74
    },
    {
     "cell_type": "code",
     "collapsed": false,
     "input": [
      "osm_tags.head()"
     ],
     "language": "python",
     "metadata": {},
     "outputs": [
      {
       "html": [
        "<div style=\"max-height:1000px;max-width:1500px;overflow:auto;\">\n",
        "<table border=\"1\" class=\"dataframe\">\n",
        "  <thead>\n",
        "    <tr style=\"text-align: right;\">\n",
        "      <th></th>\n",
        "      <th>Unnamed: 0</th>\n",
        "      <th>id</th>\n",
        "      <th>k</th>\n",
        "      <th>v</th>\n",
        "    </tr>\n",
        "  </thead>\n",
        "  <tbody>\n",
        "    <tr>\n",
        "      <th>0</th>\n",
        "      <td> 13792</td>\n",
        "      <td> 1628965</td>\n",
        "      <td> highway</td>\n",
        "      <td>    secondary</td>\n",
        "    </tr>\n",
        "    <tr>\n",
        "      <th>1</th>\n",
        "      <td> 13793</td>\n",
        "      <td> 1628965</td>\n",
        "      <td>    name</td>\n",
        "      <td>  Pudsey Road</td>\n",
        "    </tr>\n",
        "    <tr>\n",
        "      <th>2</th>\n",
        "      <td> 13794</td>\n",
        "      <td> 1628965</td>\n",
        "      <td>  oneway</td>\n",
        "      <td>          yes</td>\n",
        "    </tr>\n",
        "    <tr>\n",
        "      <th>3</th>\n",
        "      <td> 13795</td>\n",
        "      <td> 1628965</td>\n",
        "      <td>     ref</td>\n",
        "      <td>        B6154</td>\n",
        "    </tr>\n",
        "    <tr>\n",
        "      <th>4</th>\n",
        "      <td> 15603</td>\n",
        "      <td> 1709451</td>\n",
        "      <td> highway</td>\n",
        "      <td> unclassified</td>\n",
        "    </tr>\n",
        "  </tbody>\n",
        "</table>\n",
        "</div>"
       ],
       "metadata": {},
       "output_type": "pyout",
       "prompt_number": 98,
       "text": [
        "   Unnamed: 0       id        k             v\n",
        "0       13792  1628965  highway     secondary\n",
        "1       13793  1628965     name   Pudsey Road\n",
        "2       13794  1628965   oneway           yes\n",
        "3       13795  1628965      ref         B6154\n",
        "4       15603  1709451  highway  unclassified"
       ]
      }
     ],
     "prompt_number": 98
    },
    {
     "cell_type": "code",
     "collapsed": false,
     "input": [
      "len(osm_tags)"
     ],
     "language": "python",
     "metadata": {},
     "outputs": [
      {
       "metadata": {},
       "output_type": "pyout",
       "prompt_number": 99,
       "text": [
        "63450"
       ]
      }
     ],
     "prompt_number": 99
    },
    {
     "cell_type": "heading",
     "level": 2,
     "metadata": {},
     "source": [
      "leedsRoads"
     ]
    },
    {
     "cell_type": "raw",
     "metadata": {},
     "source": [
      "lr = pd.read_json(\"pythonGeoHack/leedsRoads.geojson\")"
     ]
    },
    {
     "cell_type": "code",
     "collapsed": false,
     "input": [
      "lr.head()"
     ],
     "language": "python",
     "metadata": {},
     "outputs": [
      {
       "html": [
        "<div style=\"max-height:1000px;max-width:1500px;overflow:auto;\">\n",
        "<table border=\"1\" class=\"dataframe\">\n",
        "  <thead>\n",
        "    <tr style=\"text-align: right;\">\n",
        "      <th></th>\n",
        "      <th>features</th>\n",
        "      <th>type</th>\n",
        "    </tr>\n",
        "  </thead>\n",
        "  <tbody>\n",
        "    <tr>\n",
        "      <th>0</th>\n",
        "      <td> {'type': 'Feature', 'geometry': {'type': 'Line...</td>\n",
        "      <td> FeatureCollection</td>\n",
        "    </tr>\n",
        "    <tr>\n",
        "      <th>1</th>\n",
        "      <td> {'type': 'Feature', 'geometry': {'type': 'Line...</td>\n",
        "      <td> FeatureCollection</td>\n",
        "    </tr>\n",
        "    <tr>\n",
        "      <th>2</th>\n",
        "      <td> {'type': 'Feature', 'geometry': {'type': 'Line...</td>\n",
        "      <td> FeatureCollection</td>\n",
        "    </tr>\n",
        "    <tr>\n",
        "      <th>3</th>\n",
        "      <td> {'type': 'Feature', 'geometry': {'type': 'Line...</td>\n",
        "      <td> FeatureCollection</td>\n",
        "    </tr>\n",
        "    <tr>\n",
        "      <th>4</th>\n",
        "      <td> {'type': 'Feature', 'geometry': {'type': 'Line...</td>\n",
        "      <td> FeatureCollection</td>\n",
        "    </tr>\n",
        "  </tbody>\n",
        "</table>\n",
        "</div>"
       ],
       "metadata": {},
       "output_type": "pyout",
       "prompt_number": 76,
       "text": [
        "                                            features               type\n",
        "0  {'type': 'Feature', 'geometry': {'type': 'Line...  FeatureCollection\n",
        "1  {'type': 'Feature', 'geometry': {'type': 'Line...  FeatureCollection\n",
        "2  {'type': 'Feature', 'geometry': {'type': 'Line...  FeatureCollection\n",
        "3  {'type': 'Feature', 'geometry': {'type': 'Line...  FeatureCollection\n",
        "4  {'type': 'Feature', 'geometry': {'type': 'Line...  FeatureCollection"
       ]
      }
     ],
     "prompt_number": 76
    },
    {
     "cell_type": "code",
     "collapsed": false,
     "input": [
      "lr.features[0]"
     ],
     "language": "python",
     "metadata": {},
     "outputs": [
      {
       "metadata": {},
       "output_type": "pyout",
       "prompt_number": 77,
       "text": [
        "{'type': 'Feature',\n",
        " 'geometry': {'type': 'LineString',\n",
        "  'coordinates': [[-1.627225, 53.798321],\n",
        "   [-1.62682, 53.798183],\n",
        "   [-1.626639, 53.798138]]},\n",
        " 'properties': {'wayNmId': 596060.0,\n",
        "  'island': 7.0,\n",
        "  'distncs': '31,13',\n",
        "  'rtngFcI': 272.0,\n",
        "  'flow': 'with',\n",
        "  'id': 1628965.0,\n",
        "  'elevtns': '60,58,57',\n",
        "  'lngthMt': 44.0,\n",
        "  'points': None}}"
       ]
      }
     ],
     "prompt_number": 77
    },
    {
     "cell_type": "code",
     "collapsed": false,
     "input": [],
     "language": "python",
     "metadata": {},
     "outputs": [],
     "prompt_number": 77
    }
   ],
   "metadata": {}
  }
 ]
}