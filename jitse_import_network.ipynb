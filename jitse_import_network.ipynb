{
 "metadata": {
  "name": "",
  "signature": "sha256:9df8695b4fb8556b3ccc588766c255d1da9ed322b21c11e3548cabb20cb24d04"
 },
 "nbformat": 3,
 "nbformat_minor": 0,
 "worksheets": [
  {
   "cells": [
    {
     "cell_type": "code",
     "collapsed": false,
     "input": [
      "import pandas, networkx"
     ],
     "language": "python",
     "metadata": {},
     "outputs": [],
     "prompt_number": 7
    },
    {
     "cell_type": "code",
     "collapsed": false,
     "input": [
      "# Function for reading leedsRoads.json into DataFrame\n",
      "def readLeedsRoadsJSON():\n",
      "    import json, pandas\n",
      "    jsonData = json.load(file(\"pythonGeoHack/leedsRoads.geojson\"))\n",
      "    pandasData = pandas.io.json.json_normalize(jsonData['features'])\n",
      "    uselessColumns = [ 'geometry.type', 'type', 'properties.points' ]\n",
      "    pandasData.drop(uselessColumns, axis = 1, inplace = True)\n",
      "    pandasData.rename(columns = lambda x: x.split('.')[-1], inplace = True)\n",
      "    return pandasData\n",
      "\n",
      "leedsRoads = readLeedsRoadsJSON()"
     ],
     "language": "python",
     "metadata": {},
     "outputs": [],
     "prompt_number": 2
    },
    {
     "cell_type": "code",
     "collapsed": false,
     "input": [
      "points = set(tuple(point) for line in leedsRoads['coordinates'] for point in line)"
     ],
     "language": "python",
     "metadata": {},
     "outputs": [],
     "prompt_number": 104
    },
    {
     "cell_type": "code",
     "collapsed": false,
     "input": [
      "graph = networkx.Graph()\n",
      "graph.add_nodes_from(points)\n",
      "for ix,row in leedsRoads.iterrows():\n",
      "    pointsInLine = row['coordinates']\n",
      "    roadID = int(row['id'])\n",
      "    for n in range(len(pointsInLine) - 1):\n",
      "        graph.add_edge(tuple(pointsInLine[n]), tuple(pointsInLine[n+1]), {'roadID': roadID})"
     ],
     "language": "python",
     "metadata": {},
     "outputs": [],
     "prompt_number": 106
    },
    {
     "cell_type": "code",
     "collapsed": false,
     "input": [
      "len(graph.nodes()), len(graph.edges())"
     ],
     "language": "python",
     "metadata": {},
     "outputs": [
      {
       "metadata": {},
       "output_type": "pyout",
       "prompt_number": 140,
       "text": [
        "(144440, 158064)"
       ]
      }
     ],
     "prompt_number": 140
    },
    {
     "cell_type": "code",
     "collapsed": false,
     "input": [
      "comps = networkx.connected_components(graph)"
     ],
     "language": "python",
     "metadata": {},
     "outputs": [],
     "prompt_number": 142
    },
    {
     "cell_type": "code",
     "collapsed": false,
     "input": [
      "len(comps)"
     ],
     "language": "python",
     "metadata": {},
     "outputs": [
      {
       "metadata": {},
       "output_type": "pyout",
       "prompt_number": 143,
       "text": [
        "35"
       ]
      }
     ],
     "prompt_number": 143
    },
    {
     "cell_type": "code",
     "collapsed": false,
     "input": [],
     "language": "python",
     "metadata": {},
     "outputs": []
    }
   ],
   "metadata": {}
  }
 ]
}